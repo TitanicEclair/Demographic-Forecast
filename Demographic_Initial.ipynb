{
 "cells": [
  {
   "cell_type": "markdown",
   "id": "3e86a861",
   "metadata": {},
   "source": [
    "# 1. Initial EDA "
   ]
  },
  {
   "cell_type": "markdown",
   "id": "fe0cacf7",
   "metadata": {},
   "source": [
    "## Performed initial EDA on first dataset, with some Machine-learning Models used to test its predictions.\n",
    "\n",
    "### Used Dash to visualize the data"
   ]
  },
  {
   "cell_type": "code",
   "execution_count": 1,
   "id": "47f902a3",
   "metadata": {},
   "outputs": [],
   "source": [
    "import pandas as pd\n",
    "import numpy as np\n",
    "import seaborn as sb\n",
    "import matplotlib.pyplot as plt"
   ]
  },
  {
   "cell_type": "markdown",
   "id": "d2a22b81",
   "metadata": {},
   "source": [
    "## Title: Predicting Population Growth Dynamics in Response to Economic and Environmental Factors\n",
    "\n",
    "### Problem Statement:\n",
    "\n",
    "#### In the modern world, population growth is influenced by a myriad of factors ranging from economic conditions to environmental events and governmental policies. Understanding the interplay between these variables is crucial for government agencies, policymakers, and international organizations to anticipate demographic trends and prepare accordingly. This understanding helps in crafting better-informed economic, environmental, and social policies that proactively manage resources and mitigate risks.\n",
    "#### Our goal is to develop a predictive framework that integrates key indicators such as GDP growth, frequency and impact of natural disasters, and government spending patterns to:\n",
    "\n",
    "#### 1. Forecast Population Growth: Determine the likely population growth rates by considering economic performance, environmental resilience, and public sector investments.\n",
    "#### 2. Policy Impact Analysis: Understand how variations in these indicators correlate with changes in population dynamics, providing actionable insights for strategic resource allocation and developmental planning."
   ]
  },
  {
   "cell_type": "code",
   "execution_count": 2,
   "id": "9dbda77d",
   "metadata": {},
   "outputs": [
    {
     "data": {
      "text/html": [
       "<div>\n",
       "<style scoped>\n",
       "    .dataframe tbody tr th:only-of-type {\n",
       "        vertical-align: middle;\n",
       "    }\n",
       "\n",
       "    .dataframe tbody tr th {\n",
       "        vertical-align: top;\n",
       "    }\n",
       "\n",
       "    .dataframe thead th {\n",
       "        text-align: right;\n",
       "    }\n",
       "</style>\n",
       "<table border=\"1\" class=\"dataframe\">\n",
       "  <thead>\n",
       "    <tr style=\"text-align: right;\">\n",
       "      <th></th>\n",
       "      <th>Country name</th>\n",
       "      <th>Year</th>\n",
       "      <th>Population</th>\n",
       "      <th>Population of children under the age of 1</th>\n",
       "      <th>Population of children under the age of 5</th>\n",
       "      <th>Population of children under the age of 15</th>\n",
       "      <th>Population under the age of 25</th>\n",
       "      <th>Population aged 15 to 64 years</th>\n",
       "      <th>Population older than 15 years</th>\n",
       "      <th>Population older than 18 years</th>\n",
       "      <th>...</th>\n",
       "      <th>Population aged 15 to 19 years</th>\n",
       "      <th>Population aged 20 to 29 years</th>\n",
       "      <th>Population aged 30 to 39 years</th>\n",
       "      <th>Population aged 40 to 49 years</th>\n",
       "      <th>Population aged 50 to 59 years</th>\n",
       "      <th>Population aged 60 to 69 years</th>\n",
       "      <th>Population aged 70 to 79 years</th>\n",
       "      <th>Population aged 80 to 89 years</th>\n",
       "      <th>Population aged 90 to 99 years</th>\n",
       "      <th>Population older than 100 years</th>\n",
       "    </tr>\n",
       "  </thead>\n",
       "  <tbody>\n",
       "    <tr>\n",
       "      <th>0</th>\n",
       "      <td>Afghanistan</td>\n",
       "      <td>1950</td>\n",
       "      <td>7480464</td>\n",
       "      <td>301735.0</td>\n",
       "      <td>1248282</td>\n",
       "      <td>3068855</td>\n",
       "      <td>4494349</td>\n",
       "      <td>4198587</td>\n",
       "      <td>4411609</td>\n",
       "      <td>3946595</td>\n",
       "      <td>...</td>\n",
       "      <td>757113</td>\n",
       "      <td>1241348</td>\n",
       "      <td>909953</td>\n",
       "      <td>661807</td>\n",
       "      <td>467170</td>\n",
       "      <td>271905</td>\n",
       "      <td>92691</td>\n",
       "      <td>9499</td>\n",
       "      <td>123</td>\n",
       "      <td>0.0</td>\n",
       "    </tr>\n",
       "    <tr>\n",
       "      <th>1</th>\n",
       "      <td>Afghanistan</td>\n",
       "      <td>1951</td>\n",
       "      <td>7571542</td>\n",
       "      <td>299368.0</td>\n",
       "      <td>1246857</td>\n",
       "      <td>3105444</td>\n",
       "      <td>4552138</td>\n",
       "      <td>4250002</td>\n",
       "      <td>4466098</td>\n",
       "      <td>3993640</td>\n",
       "      <td>...</td>\n",
       "      <td>768616</td>\n",
       "      <td>1260904</td>\n",
       "      <td>922765</td>\n",
       "      <td>667015</td>\n",
       "      <td>468881</td>\n",
       "      <td>273286</td>\n",
       "      <td>94358</td>\n",
       "      <td>10155</td>\n",
       "      <td>118</td>\n",
       "      <td>0.0</td>\n",
       "    </tr>\n",
       "    <tr>\n",
       "      <th>2</th>\n",
       "      <td>Afghanistan</td>\n",
       "      <td>1952</td>\n",
       "      <td>7667534</td>\n",
       "      <td>305393.0</td>\n",
       "      <td>1248220</td>\n",
       "      <td>3145070</td>\n",
       "      <td>4613604</td>\n",
       "      <td>4303436</td>\n",
       "      <td>4522464</td>\n",
       "      <td>4041439</td>\n",
       "      <td>...</td>\n",
       "      <td>781411</td>\n",
       "      <td>1280288</td>\n",
       "      <td>935638</td>\n",
       "      <td>672491</td>\n",
       "      <td>470898</td>\n",
       "      <td>274852</td>\n",
       "      <td>96026</td>\n",
       "      <td>10721</td>\n",
       "      <td>139</td>\n",
       "      <td>0.0</td>\n",
       "    </tr>\n",
       "    <tr>\n",
       "      <th>3</th>\n",
       "      <td>Afghanistan</td>\n",
       "      <td>1953</td>\n",
       "      <td>7764549</td>\n",
       "      <td>311574.0</td>\n",
       "      <td>1254725</td>\n",
       "      <td>3186382</td>\n",
       "      <td>4676232</td>\n",
       "      <td>4356242</td>\n",
       "      <td>4578167</td>\n",
       "      <td>4088379</td>\n",
       "      <td>...</td>\n",
       "      <td>794308</td>\n",
       "      <td>1298803</td>\n",
       "      <td>948321</td>\n",
       "      <td>678064</td>\n",
       "      <td>472969</td>\n",
       "      <td>276577</td>\n",
       "      <td>97705</td>\n",
       "      <td>11254</td>\n",
       "      <td>166</td>\n",
       "      <td>0.0</td>\n",
       "    </tr>\n",
       "    <tr>\n",
       "      <th>4</th>\n",
       "      <td>Afghanistan</td>\n",
       "      <td>1954</td>\n",
       "      <td>7864289</td>\n",
       "      <td>317584.0</td>\n",
       "      <td>1267817</td>\n",
       "      <td>3231060</td>\n",
       "      <td>4741371</td>\n",
       "      <td>4408474</td>\n",
       "      <td>4633229</td>\n",
       "      <td>4136116</td>\n",
       "      <td>...</td>\n",
       "      <td>806216</td>\n",
       "      <td>1316768</td>\n",
       "      <td>961484</td>\n",
       "      <td>684153</td>\n",
       "      <td>475117</td>\n",
       "      <td>278210</td>\n",
       "      <td>99298</td>\n",
       "      <td>11793</td>\n",
       "      <td>190</td>\n",
       "      <td>0.0</td>\n",
       "    </tr>\n",
       "  </tbody>\n",
       "</table>\n",
       "<p>5 rows × 24 columns</p>\n",
       "</div>"
      ],
      "text/plain": [
       "  Country name  Year  Population  Population of children under the age of 1  \\\n",
       "0  Afghanistan  1950     7480464                                   301735.0   \n",
       "1  Afghanistan  1951     7571542                                   299368.0   \n",
       "2  Afghanistan  1952     7667534                                   305393.0   \n",
       "3  Afghanistan  1953     7764549                                   311574.0   \n",
       "4  Afghanistan  1954     7864289                                   317584.0   \n",
       "\n",
       "   Population of children under the age of 5  \\\n",
       "0                                    1248282   \n",
       "1                                    1246857   \n",
       "2                                    1248220   \n",
       "3                                    1254725   \n",
       "4                                    1267817   \n",
       "\n",
       "   Population of children under the age of 15  Population under the age of 25  \\\n",
       "0                                     3068855                         4494349   \n",
       "1                                     3105444                         4552138   \n",
       "2                                     3145070                         4613604   \n",
       "3                                     3186382                         4676232   \n",
       "4                                     3231060                         4741371   \n",
       "\n",
       "   Population aged 15 to 64 years  Population older than 15 years  \\\n",
       "0                         4198587                         4411609   \n",
       "1                         4250002                         4466098   \n",
       "2                         4303436                         4522464   \n",
       "3                         4356242                         4578167   \n",
       "4                         4408474                         4633229   \n",
       "\n",
       "   Population older than 18 years  ...  Population aged 15 to 19 years  \\\n",
       "0                         3946595  ...                          757113   \n",
       "1                         3993640  ...                          768616   \n",
       "2                         4041439  ...                          781411   \n",
       "3                         4088379  ...                          794308   \n",
       "4                         4136116  ...                          806216   \n",
       "\n",
       "   Population aged 20 to 29 years  Population aged 30 to 39 years  \\\n",
       "0                         1241348                          909953   \n",
       "1                         1260904                          922765   \n",
       "2                         1280288                          935638   \n",
       "3                         1298803                          948321   \n",
       "4                         1316768                          961484   \n",
       "\n",
       "   Population aged 40 to 49 years  Population aged 50 to 59 years  \\\n",
       "0                          661807                          467170   \n",
       "1                          667015                          468881   \n",
       "2                          672491                          470898   \n",
       "3                          678064                          472969   \n",
       "4                          684153                          475117   \n",
       "\n",
       "   Population aged 60 to 69 years  Population aged 70 to 79 years  \\\n",
       "0                          271905                           92691   \n",
       "1                          273286                           94358   \n",
       "2                          274852                           96026   \n",
       "3                          276577                           97705   \n",
       "4                          278210                           99298   \n",
       "\n",
       "   Population aged 80 to 89 years  Population aged 90 to 99 years  \\\n",
       "0                            9499                             123   \n",
       "1                           10155                             118   \n",
       "2                           10721                             139   \n",
       "3                           11254                             166   \n",
       "4                           11793                             190   \n",
       "\n",
       "   Population older than 100 years  \n",
       "0                              0.0  \n",
       "1                              0.0  \n",
       "2                              0.0  \n",
       "3                              0.0  \n",
       "4                              0.0  \n",
       "\n",
       "[5 rows x 24 columns]"
      ]
     },
     "execution_count": 2,
     "metadata": {},
     "output_type": "execute_result"
    }
   ],
   "source": [
    "df = pd.read_csv('demographic.csv')\n",
    "df.head()"
   ]
  },
  {
   "cell_type": "code",
   "execution_count": 3,
   "id": "37ba6e2e",
   "metadata": {},
   "outputs": [
    {
     "name": "stdout",
     "output_type": "stream",
     "text": [
      "<class 'pandas.core.frame.DataFrame'>\n",
      "RangeIndex: 18288 entries, 0 to 18287\n",
      "Data columns (total 24 columns):\n",
      " #   Column                                      Non-Null Count  Dtype  \n",
      "---  ------                                      --------------  -----  \n",
      " 0   Country name                                18288 non-null  object \n",
      " 1   Year                                        18288 non-null  int64  \n",
      " 2   Population                                  18288 non-null  int64  \n",
      " 3   Population of children under the age of 1   18288 non-null  float64\n",
      " 4   Population of children under the age of 5   18288 non-null  int64  \n",
      " 5   Population of children under the age of 15  18288 non-null  int64  \n",
      " 6   Population under the age of 25              18288 non-null  int64  \n",
      " 7   Population aged 15 to 64 years              18288 non-null  int64  \n",
      " 8   Population older than 15 years              18288 non-null  int64  \n",
      " 9   Population older than 18 years              18288 non-null  int64  \n",
      " 10  Population at age 1                         18288 non-null  float64\n",
      " 11  Population aged 1 to 4 years                18288 non-null  float64\n",
      " 12  Population aged 5 to 9 years                18288 non-null  int64  \n",
      " 13  Population aged 10 to 14 years              18288 non-null  int64  \n",
      " 14  Population aged 15 to 19 years              18288 non-null  int64  \n",
      " 15  Population aged 20 to 29 years              18288 non-null  int64  \n",
      " 16  Population aged 30 to 39 years              18288 non-null  int64  \n",
      " 17  Population aged 40 to 49 years              18288 non-null  int64  \n",
      " 18  Population aged 50 to 59 years              18288 non-null  int64  \n",
      " 19  Population aged 60 to 69 years              18288 non-null  int64  \n",
      " 20  Population aged 70 to 79 years              18288 non-null  int64  \n",
      " 21  Population aged 80 to 89 years              18288 non-null  int64  \n",
      " 22  Population aged 90 to 99 years              18288 non-null  int64  \n",
      " 23  Population older than 100 years             18288 non-null  float64\n",
      "dtypes: float64(4), int64(19), object(1)\n",
      "memory usage: 3.3+ MB\n"
     ]
    }
   ],
   "source": [
    "df.info()"
   ]
  },
  {
   "cell_type": "markdown",
   "id": "d4646017",
   "metadata": {},
   "source": [
    "#### Looking into the columns of the dataset, we decided to clean up and remove some of the redundant columns that does not help with our analysis"
   ]
  },
  {
   "cell_type": "code",
   "execution_count": 4,
   "id": "0041b191",
   "metadata": {},
   "outputs": [],
   "source": [
    "remove_columns = ['Population of children under the age of 5', 'Population under the age of 25', \n",
    "                  'Population older than 18 years',  'Population at age 1']\n",
    "\n",
    "df = df.drop(columns=remove_columns)"
   ]
  },
  {
   "cell_type": "code",
   "execution_count": 5,
   "id": "2a4af182",
   "metadata": {},
   "outputs": [
    {
     "name": "stdout",
     "output_type": "stream",
     "text": [
      "Number of columns: 20\n",
      "Length of df: 18288\n"
     ]
    }
   ],
   "source": [
    "print(f'Number of columns: {len(df.columns)}')\n",
    "print(f'Length of df: {len(df)}')"
   ]
  },
  {
   "cell_type": "code",
   "execution_count": 6,
   "id": "26a7e177",
   "metadata": {},
   "outputs": [
    {
     "name": "stdout",
     "output_type": "stream",
     "text": [
      "Number of Unique Countries: 254\n",
      "Total number of years: 72\n"
     ]
    }
   ],
   "source": [
    "print('Number of Unique Countries:', df['Country name'].nunique())\n",
    "print('Total number of years:', df['Year'].nunique())"
   ]
  },
  {
   "cell_type": "code",
   "execution_count": 7,
   "id": "f672c542",
   "metadata": {},
   "outputs": [
    {
     "name": "stdout",
     "output_type": "stream",
     "text": [
      "               Year    Population  Population of children under the age of 1  \\\n",
      "count  18288.000000  1.828800e+04                               1.828800e+04   \n",
      "mean    1985.500000  1.264704e+08                               3.133497e+06   \n",
      "std       20.783173  5.888512e+08                               1.416701e+07   \n",
      "min     1950.000000  1.363000e+03                               2.500000e+01   \n",
      "25%     1967.750000  2.915915e+05                               6.663750e+03   \n",
      "50%     1985.500000  3.833998e+06                               8.835200e+04   \n",
      "75%     2003.250000  1.678546e+07                               4.630005e+05   \n",
      "max     2021.000000  7.909295e+09                               1.397837e+08   \n",
      "\n",
      "       Population of children under the age of 15  \\\n",
      "count                                1.828800e+04   \n",
      "mean                                 4.109523e+07   \n",
      "std                                  1.884170e+08   \n",
      "min                                  4.160000e+02   \n",
      "25%                                  8.954150e+04   \n",
      "50%                                  1.186122e+06   \n",
      "75%                                  5.905945e+06   \n",
      "max                                  2.015023e+09   \n",
      "\n",
      "       Population aged 15 to 64 years  Population older than 15 years  \\\n",
      "count                    1.828800e+04                    1.828800e+04   \n",
      "mean                     7.742951e+07                    8.537210e+07   \n",
      "std                      3.676519e+08                    4.048669e+08   \n",
      "min                      7.480000e+02                    8.490000e+02   \n",
      "25%                      1.702635e+05                    1.867160e+05   \n",
      "50%                      2.246772e+06                    2.482104e+06   \n",
      "75%                      9.641250e+06                    1.035435e+07   \n",
      "max                      5.132999e+09                    5.893679e+09   \n",
      "\n",
      "       Population aged 1 to 4 years  Population aged 5 to 9 years  \\\n",
      "count                  1.828800e+04                  1.828800e+04   \n",
      "mean                   1.169221e+07                  1.359858e+07   \n",
      "std                    5.323824e+07                  6.253431e+07   \n",
      "min                    1.010000e+02                  1.380000e+02   \n",
      "25%                    2.526925e+04                  2.940625e+04   \n",
      "50%                    3.344540e+05                  3.922205e+05   \n",
      "75%                    1.697851e+06                  1.947261e+06   \n",
      "max                    5.509704e+08                  6.836118e+08   \n",
      "\n",
      "       Population aged 10 to 14 years  Population aged 15 to 19 years  \\\n",
      "count                    1.828800e+04                    1.828800e+04   \n",
      "mean                     1.267094e+07                    1.178226e+07   \n",
      "std                      5.877546e+07                    5.512604e+07   \n",
      "min                      7.300000e+01                    1.100000e+02   \n",
      "25%                      2.787950e+04                    2.629650e+04   \n",
      "50%                      3.638955e+05                    3.369695e+05   \n",
      "75%                      1.796754e+06                    1.626211e+06   \n",
      "max                      6.599343e+08                    6.235761e+08   \n",
      "\n",
      "       Population aged 20 to 29 years  Population aged 30 to 39 years  \\\n",
      "count                    1.828800e+04                    1.828800e+04   \n",
      "mean                     2.087288e+07                    1.715870e+07   \n",
      "std                      9.886099e+07                    8.240460e+07   \n",
      "min                      1.580000e+02                    1.370000e+02   \n",
      "25%                      4.505075e+04                    3.660825e+04   \n",
      "50%                      6.097235e+05                    4.862905e+05   \n",
      "75%                      2.758738e+06                    2.113149e+06   \n",
      "max                      1.210493e+09                    1.165207e+09   \n",
      "\n",
      "       Population aged 40 to 49 years  Population aged 50 to 59 years  \\\n",
      "count                    1.828800e+04                    1.828800e+04   \n",
      "mean                     1.362214e+07                    1.017707e+07   \n",
      "std                      6.600822e+07                    4.928848e+07   \n",
      "min                      1.190000e+02                    9.500000e+01   \n",
      "25%                      2.744025e+04                    1.964975e+04   \n",
      "50%                      3.647125e+05                    2.647815e+05   \n",
      "75%                      1.556334e+06                    1.203386e+06   \n",
      "max                      9.764072e+08                    8.513569e+08   \n",
      "\n",
      "       Population aged 60 to 69 years  Population aged 70 to 79 years  \\\n",
      "count                    1.828800e+04                    1.828800e+04   \n",
      "mean                     6.801757e+06                    3.618710e+06   \n",
      "std                      3.271292e+07                    1.749154e+07   \n",
      "min                      6.400000e+01                    3.100000e+01   \n",
      "25%                      1.260300e+04                    6.221000e+03   \n",
      "50%                      1.684175e+05                    8.182400e+04   \n",
      "75%                      8.452428e+05                    4.367100e+05   \n",
      "max                      5.980671e+08                    3.304912e+08   \n",
      "\n",
      "       Population aged 80 to 89 years  Population aged 90 to 99 years  \\\n",
      "count                    1.828800e+04                    1.828800e+04   \n",
      "mean                     1.195799e+06                    1.427844e+05   \n",
      "std                      6.238308e+06                    8.533504e+05   \n",
      "min                      6.000000e+00                    0.000000e+00   \n",
      "25%                      1.818750e+03                    1.547500e+02   \n",
      "50%                      2.026950e+04                    1.468500e+03   \n",
      "75%                      1.333805e+05                    1.249900e+04   \n",
      "max                      1.318356e+08                    2.222397e+07   \n",
      "\n",
      "       Population older than 100 years  \n",
      "count                     18288.000000  \n",
      "mean                       3107.718068  \n",
      "std                       20951.566812  \n",
      "min                           0.000000  \n",
      "25%                           0.000000  \n",
      "50%                          13.000000  \n",
      "75%                         163.000000  \n",
      "max                      593166.000000  \n"
     ]
    }
   ],
   "source": [
    "print(df.describe())"
   ]
  },
  {
   "cell_type": "code",
   "execution_count": 8,
   "id": "1ead8dda",
   "metadata": {},
   "outputs": [],
   "source": [
    "# Function to find the growth rate of certain aspects of the dataset\n",
    "\n",
    "def population_growth_rate(df, column):\n",
    "    df.loc[:, ['Population Growth Rate']] = ((df[column].diff() / df[column].shift(1)) * 100).fillna(0)\n",
    "    df.loc[population_growth['Year'] == 1950, 'Population Growth Rate'] = 0\n",
    "    \n",
    "    pivot_data = df.pivot(index = 'Year', columns = 'Country name', values = 'Population Growth Rate')\n",
    "    print(pivot_data.head())\n",
    "    \n",
    "    return df"
   ]
  },
  {
   "cell_type": "code",
   "execution_count": 9,
   "id": "e68c92e6",
   "metadata": {},
   "outputs": [
    {
     "name": "stdout",
     "output_type": "stream",
     "text": [
      "Country name  Afghanistan  Africa (UN)   Albania   Algeria  American Samoa  \\\n",
      "Year                                                                         \n",
      "1950             0.000000     0.000000  0.000000  0.000000        0.000000   \n",
      "1951             1.217545     2.168647  2.920995  2.792447        2.046492   \n",
      "1952             1.267800     2.194585  2.930712  2.695955        0.719905   \n",
      "1953             1.265270     2.210306  2.998590  2.625402        0.551386   \n",
      "1954             1.284556     2.226728  3.092306  2.454663        0.446814   \n",
      "\n",
      "Country name   Andorra    Angola  Anguilla  Antigua and Barbuda  Argentina  \\\n",
      "Year                                                                         \n",
      "1950          0.000000  0.000000  0.000000             0.000000   0.000000   \n",
      "1951         -2.986065  2.044533  4.527403             2.125132   1.979498   \n",
      "1952         -6.378249  2.061910  3.020517             2.063677   1.954765   \n",
      "1953         -2.557078  2.031596  2.286557             2.021950   1.915309   \n",
      "1954          4.779756  1.927745  2.487831             1.981878   1.866049   \n",
      "\n",
      "Country name  ...  Uzbekistan   Vanuatu  Venezuela   Vietnam  \\\n",
      "Year          ...                                              \n",
      "1950          ...    0.000000  0.000000   0.000000  0.000000   \n",
      "1951          ...    2.580978  1.661271   4.436289  2.064351   \n",
      "1952          ...    2.620084  1.780947   4.331354  2.193172   \n",
      "1953          ...    2.699735  1.967103   4.227134  2.410354   \n",
      "1954          ...    2.777871  2.081649   4.122225  2.559948   \n",
      "\n",
      "Country name  Wallis and Futuna  Western Sahara     World     Yemen    Zambia  \\\n",
      "Year                                                                            \n",
      "1950                   0.000000        0.000000  0.000000  0.000000  0.000000   \n",
      "1951                   3.214119        9.890025  1.752811  1.484803  2.863202   \n",
      "1952                   4.065225        9.678774  1.853645  1.527038  2.880199   \n",
      "1953                   3.906420        9.660541  1.930601  1.565399  2.914544   \n",
      "1954                   1.727930        9.792855  1.958145  1.596423  2.950973   \n",
      "\n",
      "Country name  Zimbabwe  \n",
      "Year                    \n",
      "1950          0.000000  \n",
      "1951          3.238091  \n",
      "1952          3.192466  \n",
      "1953          3.167211  \n",
      "1954          3.149088  \n",
      "\n",
      "[5 rows x 254 columns]\n"
     ]
    },
    {
     "data": {
      "text/html": [
       "<div>\n",
       "<style scoped>\n",
       "    .dataframe tbody tr th:only-of-type {\n",
       "        vertical-align: middle;\n",
       "    }\n",
       "\n",
       "    .dataframe tbody tr th {\n",
       "        vertical-align: top;\n",
       "    }\n",
       "\n",
       "    .dataframe thead th {\n",
       "        text-align: right;\n",
       "    }\n",
       "</style>\n",
       "<table border=\"1\" class=\"dataframe\">\n",
       "  <thead>\n",
       "    <tr style=\"text-align: right;\">\n",
       "      <th></th>\n",
       "      <th>Country name</th>\n",
       "      <th>Year</th>\n",
       "      <th>Population</th>\n",
       "      <th>Population Growth Rate</th>\n",
       "    </tr>\n",
       "  </thead>\n",
       "  <tbody>\n",
       "    <tr>\n",
       "      <th>0</th>\n",
       "      <td>Afghanistan</td>\n",
       "      <td>1950</td>\n",
       "      <td>7480464</td>\n",
       "      <td>0.000000</td>\n",
       "    </tr>\n",
       "    <tr>\n",
       "      <th>1</th>\n",
       "      <td>Afghanistan</td>\n",
       "      <td>1951</td>\n",
       "      <td>7571542</td>\n",
       "      <td>1.217545</td>\n",
       "    </tr>\n",
       "    <tr>\n",
       "      <th>2</th>\n",
       "      <td>Afghanistan</td>\n",
       "      <td>1952</td>\n",
       "      <td>7667534</td>\n",
       "      <td>1.267800</td>\n",
       "    </tr>\n",
       "    <tr>\n",
       "      <th>3</th>\n",
       "      <td>Afghanistan</td>\n",
       "      <td>1953</td>\n",
       "      <td>7764549</td>\n",
       "      <td>1.265270</td>\n",
       "    </tr>\n",
       "    <tr>\n",
       "      <th>4</th>\n",
       "      <td>Afghanistan</td>\n",
       "      <td>1954</td>\n",
       "      <td>7864289</td>\n",
       "      <td>1.284556</td>\n",
       "    </tr>\n",
       "  </tbody>\n",
       "</table>\n",
       "</div>"
      ],
      "text/plain": [
       "  Country name  Year  Population  Population Growth Rate\n",
       "0  Afghanistan  1950     7480464                0.000000\n",
       "1  Afghanistan  1951     7571542                1.217545\n",
       "2  Afghanistan  1952     7667534                1.267800\n",
       "3  Afghanistan  1953     7764549                1.265270\n",
       "4  Afghanistan  1954     7864289                1.284556"
      ]
     },
     "execution_count": 9,
     "metadata": {},
     "output_type": "execute_result"
    }
   ],
   "source": [
    "population_growth = df[['Country name', 'Year', 'Population']]\n",
    "population_growth = population_growth_rate(population_growth, 'Population')\n",
    "population_growth.head()"
   ]
  },
  {
   "cell_type": "code",
   "execution_count": 10,
   "id": "b2995f11",
   "metadata": {},
   "outputs": [
    {
     "name": "stdout",
     "output_type": "stream",
     "text": [
      "<class 'pandas.core.frame.DataFrame'>\n",
      "RangeIndex: 18288 entries, 0 to 18287\n",
      "Data columns (total 4 columns):\n",
      " #   Column                  Non-Null Count  Dtype  \n",
      "---  ------                  --------------  -----  \n",
      " 0   Country name            18288 non-null  object \n",
      " 1   Year                    18288 non-null  int64  \n",
      " 2   Population              18288 non-null  int64  \n",
      " 3   Population Growth Rate  18288 non-null  float64\n",
      "dtypes: float64(1), int64(2), object(1)\n",
      "memory usage: 571.6+ KB\n",
      "Country name              0\n",
      "Year                      0\n",
      "Population                0\n",
      "Population Growth Rate    0\n",
      "dtype: int64\n"
     ]
    }
   ],
   "source": [
    "population_growth.info()\n",
    "print(population_growth.isna().sum())"
   ]
  },
  {
   "cell_type": "code",
   "execution_count": 11,
   "id": "d1224cf2",
   "metadata": {},
   "outputs": [],
   "source": [
    "# Mean growth rate for countries per year\n",
    "def mean_population_growth_rate(df, column):\n",
    "    avg_countries = df.groupby('Country name')[column].mean()\n",
    "    pos_avg_countries = avg_countries.sort_values(ascending = False)\n",
    "\n",
    "    print(pos_avg_countries.head(20))\n",
    "    return avg_countries"
   ]
  },
  {
   "cell_type": "code",
   "execution_count": 12,
   "id": "5745307b",
   "metadata": {},
   "outputs": [
    {
     "name": "stdout",
     "output_type": "stream",
     "text": [
      "Country name\n",
      "United Arab Emirates          7.044490\n",
      "Qatar                         6.846476\n",
      "Western Sahara                5.479180\n",
      "Kuwait                        4.902302\n",
      "Sint Maarten (Dutch part)     4.885728\n",
      "Jordan                        4.619196\n",
      "Djibouti                      4.109573\n",
      "Mayotte                       3.876915\n",
      "Andorra                       3.702056\n",
      "French Guiana                 3.600381\n",
      "Bahrain                       3.582518\n",
      "Saudi Arabia                  3.474564\n",
      "Saint Martin (French part)    3.454159\n",
      "Oman                          3.259401\n",
      "Cote d'Ivoire                 3.258728\n",
      "Cayman Islands                3.233234\n",
      "Niger                         3.226378\n",
      "Brunei                        3.145964\n",
      "Kenya                         3.129412\n",
      "Turks and Caicos Islands      3.103667\n",
      "Name: Population Growth Rate, dtype: float64\n"
     ]
    }
   ],
   "source": [
    "avg_growth = mean_population_growth_rate(population_growth, 'Population Growth Rate')"
   ]
  },
  {
   "cell_type": "markdown",
   "id": "974d7770",
   "metadata": {},
   "source": [
    "#### UAE can be seen having the highest mean population growth rate compared to other countries, which may signify a youthful population with implications for future workforce demographics. Looking into the data for children under 1, we can also indicate whether there is a growing youthful population through the birth rate of a country."
   ]
  },
  {
   "cell_type": "code",
   "execution_count": 13,
   "id": "68b0bf8b",
   "metadata": {},
   "outputs": [
    {
     "name": "stdout",
     "output_type": "stream",
     "text": [
      "Country name  Afghanistan  Africa (UN)   Albania   Algeria  American Samoa  \\\n",
      "Year                                                                         \n",
      "1950             0.000000     0.000000  0.000000  0.000000        0.000000   \n",
      "1951            -0.784463     3.096205  4.727097  9.275408        2.414231   \n",
      "1952             2.012573     2.446588  3.990245  2.001627       -0.620347   \n",
      "1953             2.023949     2.481694  4.987466  2.113741       -1.622971   \n",
      "1954             1.928916     2.382651  5.197281  2.228566       -1.015228   \n",
      "\n",
      "Country name   Andorra    Angola  Anguilla  Antigua and Barbuda  Argentina  \\\n",
      "Year                                                                         \n",
      "1950          0.000000  0.000000  0.000000             0.000000   0.000000   \n",
      "1951          2.173913  5.762661  3.719000             4.692664   1.868771   \n",
      "1952         -2.127660  3.219769  3.984072             1.325758   1.564815   \n",
      "1953         -7.608696  3.542751  2.681992             1.433022   1.371887   \n",
      "1954          3.529412  3.384267  1.119403             1.658477   1.109924   \n",
      "\n",
      "Country name  ...  Uzbekistan   Vanuatu  Venezuela   Vietnam  \\\n",
      "Year          ...                                              \n",
      "1950          ...    0.000000  0.000000   0.000000  0.000000   \n",
      "1951          ...   16.613477  2.868847   4.720247 -3.548109   \n",
      "1952          ...    4.706301  2.938252   5.284242  5.072490   \n",
      "1953          ...    5.273901  3.338171   4.803647  7.699736   \n",
      "1954          ...    5.018759  3.323970   4.333325  4.664431   \n",
      "\n",
      "Country name  Wallis and Futuna  Western Sahara     World     Yemen    Zambia  \\\n",
      "Year                                                                            \n",
      "1950                   0.000000        0.000000  0.000000  0.000000  0.000000   \n",
      "1951                   2.556818       11.324376  2.138287 -0.627676  3.516668   \n",
      "1952                   3.601108       15.517241  3.218164  1.769203  3.096708   \n",
      "1953                   4.812834       14.029851  2.523678  2.056248  3.314839   \n",
      "1954                   4.846939       12.827225  1.734155  2.153923  3.382650   \n",
      "\n",
      "Country name  Zimbabwe  \n",
      "Year                    \n",
      "1950          0.000000  \n",
      "1951          3.426816  \n",
      "1952          2.400859  \n",
      "1953          2.483353  \n",
      "1954          2.491608  \n",
      "\n",
      "[5 rows x 254 columns]\n",
      "Country name\n",
      "United Arab Emirates            5.042443\n",
      "Qatar                           4.743610\n",
      "Western Sahara                  4.275444\n",
      "Jordan                          3.739574\n",
      "Mayotte                         3.431677\n",
      "Kuwait                          3.276568\n",
      "French Guiana                   3.203496\n",
      "Djibouti                        3.133759\n",
      "Niger                           3.039393\n",
      "Sint Maarten (Dutch part)       2.977119\n",
      "Democratic Republic of Congo    2.876787\n",
      "Chad                            2.851879\n",
      "Somalia                         2.843600\n",
      "Angola                          2.815619\n",
      "Cote d'Ivoire                   2.792683\n",
      "Tanzania                        2.723937\n",
      "Gambia                          2.640994\n",
      "Zambia                          2.624434\n",
      "Benin                           2.579780\n",
      "Andorra                         2.564966\n",
      "Name: Population Growth Rate, dtype: float64\n"
     ]
    }
   ],
   "source": [
    "#The reason we choose under 1 population, is to see the overall trend in birth rate in the country and reflects whether there\n",
    "#will be a youthful or ageing population. Those older might be susceptible to migration data, which might affect the overall\n",
    "#analysis into whether the population is young or old.\n",
    "\n",
    "under_1 = df[['Country name', 'Year', 'Population of children under the age of 1']]\n",
    "under_1 = population_growth_rate(under_1, 'Population of children under the age of 1')\n",
    "under_1 = mean_population_growth_rate(under_1, 'Population Growth Rate')"
   ]
  },
  {
   "cell_type": "code",
   "execution_count": 14,
   "id": "2320a443",
   "metadata": {},
   "outputs": [
    {
     "data": {
      "image/png": "[encoded data removed]",
      "text/plain": [
       "<Figure size 1200x800 with 1 Axes>"
      ]
     },
     "metadata": {},
     "output_type": "display_data"
    }
   ],
   "source": [
    "population_df = pd.merge(under_1, avg_growth, on='Country name', suffixes=('_under_1', '_avg_growth'))\n",
    "\n",
    "f = plt.figure(figsize = (12, 8))\n",
    "sb.scatterplot(data=population_df, x='Population Growth Rate_under_1', y='Population Growth Rate_avg_growth')\n",
    "plt.title('Comparison of Population Growth Rates')\n",
    "plt.xlabel('Population Growth Rate (Under 1)')\n",
    "plt.ylabel('Average Population Growth Rate')\n",
    "plt.grid(True)\n",
    "plt.show()"
   ]
  },
  {
   "cell_type": "markdown",
   "id": "66768c81",
   "metadata": {},
   "source": [
    "#### Comparable, the mean number of youth per year has a linear relation with the mean growth rate of the population. This indicates that the country is going towards a youthful population.  This is evident from the scatterplot as well"
   ]
  },
  {
   "cell_type": "code",
   "execution_count": 15,
   "id": "56879793",
   "metadata": {},
   "outputs": [
    {
     "name": "stdout",
     "output_type": "stream",
     "text": [
      "Country name\n",
      "Montserrat   -1.434280\n",
      "Niue         -1.130272\n",
      "Bulgaria     -0.051008\n",
      "Latvia       -0.030261\n",
      "Name: Population Growth Rate, dtype: float64\n"
     ]
    }
   ],
   "source": [
    "# Looking into countries with negative avg growth to see their correlations\n",
    "\n",
    "neg_avg_countries = avg_growth[avg_growth < 0].sort_values(ascending = True)\n",
    "\n",
    "print(neg_avg_countries.head())"
   ]
  },
  {
   "cell_type": "code",
   "execution_count": 16,
   "id": "d4d79fa4",
   "metadata": {},
   "outputs": [
    {
     "name": "stdout",
     "output_type": "stream",
     "text": [
      "Country name\n",
      "Montserrat              -2.953630\n",
      "Niue                    -2.557371\n",
      "Saint Helena            -1.932956\n",
      "Saint Kitts and Nevis   -1.807753\n",
      "Puerto Rico             -1.522277\n",
      "Name: Population Growth Rate, dtype: float64\n"
     ]
    }
   ],
   "source": [
    "under_1_countries = under_1[under_1 < 0].sort_values(ascending = True)\n",
    "\n",
    "print(under_1_countries.head())"
   ]
  },
  {
   "cell_type": "markdown",
   "id": "562d6bf6",
   "metadata": {},
   "source": [
    "#### From the data collected, it can be seen that the declining birth rate of children (as shown in the under_1 countries) seems to cause the average growth rate of the population to decrease as well. This might signal a start of an ageing population, where respective government personnels can implement measures to tackle such problems. \n",
    "\n",
    "#### As for some of the data, it can be seen that despite the declining growth rate of the younger population, it seems that their population growth rate seems to be in the positive region. This generally implies that there is higher immigrants coming in to the country, which helps to boost external growth rate of their population, despite the decreased in birth rates. \n",
    "#### This can serve as possible intervention by the government to help curb the ageing population."
   ]
  },
  {
   "cell_type": "code",
   "execution_count": null,
   "id": "ab826ccf",
   "metadata": {},
   "outputs": [],
   "source": []
  },
  {
   "cell_type": "markdown",
   "id": "801128e9",
   "metadata": {},
   "source": [
    "### We will now look into dependencies ratio of the various countries. This can be broken down into dependent population (Children < 15 and Adults > 65) and working-age population (15 < Adults < 64).\n",
    "\n",
    "### Dependency Ratio = (Dependent Population / Working-Age Population) * 100\n",
    "#### Higher dependency ratio implies that the overall economy face a higher burdern in supporting the ageing population"
   ]
  },
  {
   "cell_type": "code",
   "execution_count": 17,
   "id": "9d6af70d",
   "metadata": {},
   "outputs": [
    {
     "name": "stdout",
     "output_type": "stream",
     "text": [
      "      Country name  Year  Dependency Ratio\n",
      "0      Afghanistan  1950         73.092567\n",
      "1      Afghanistan  1951         73.069236\n",
      "2      Afghanistan  1952         73.082765\n",
      "3      Afghanistan  1953         73.145202\n",
      "4      Afghanistan  1954         73.292028\n",
      "...            ...   ...               ...\n",
      "18283     Zimbabwe  2017         77.181389\n",
      "18284     Zimbabwe  2018         76.125337\n",
      "18285     Zimbabwe  2019         75.145062\n",
      "18286     Zimbabwe  2020         74.198369\n",
      "18287     Zimbabwe  2021         73.359971\n",
      "\n",
      "[18288 rows x 3 columns]\n"
     ]
    }
   ],
   "source": [
    "dependent_population = df['Population of children under the age of 15'] \n",
    "+ (df['Population older than 15 years'] - df['Population aged 15 to 64 years'])\n",
    "    \n",
    "working_age_population = df['Population aged 15 to 64 years']\n",
    "\n",
    "df['Dependency Ratio'] = (dependent_population / working_age_population) * 100\n",
    "\n",
    "print(df[['Country name', 'Year', 'Dependency Ratio']])"
   ]
  },
  {
   "cell_type": "code",
   "execution_count": 18,
   "id": "586fe810",
   "metadata": {},
   "outputs": [
    {
     "name": "stdout",
     "output_type": "stream",
     "text": [
      "Country name\n",
      "Niger               96.601238\n",
      "Uganda              95.725714\n",
      "Kenya               95.669379\n",
      "Zambia              94.840280\n",
      "Palestine           94.176657\n",
      "Mayotte             93.812062\n",
      "Marshall Islands    93.635146\n",
      "Zimbabwe            90.439569\n",
      "Burundi             90.045450\n",
      "Rwanda              89.851394\n",
      "Somalia             88.933516\n",
      "Chad                88.675489\n",
      "Yemen               88.371056\n",
      "Afghanistan         88.370962\n",
      "Sudan               88.303377\n",
      "Tanzania            88.283880\n",
      "Samoa               87.509283\n",
      "Malawi              87.089574\n",
      "Eswatini            86.960016\n",
      "Angola              86.787277\n",
      "Name: Dependency Ratio, dtype: float64\n"
     ]
    }
   ],
   "source": [
    "dependency_df = df[['Country name', 'Year', 'Dependency Ratio']]\n",
    "dependency_df = mean_population_growth_rate(dependency_df, 'Dependency Ratio')"
   ]
  },
  {
   "cell_type": "code",
   "execution_count": 19,
   "id": "1d05795a",
   "metadata": {},
   "outputs": [
    {
     "name": "stdout",
     "output_type": "stream",
     "text": [
      "Country name\n",
      "Monaco         21.636976\n",
      "Jersey         25.724647\n",
      "Germany        27.091347\n",
      "Luxembourg     28.169264\n",
      "Isle of Man    29.146204\n",
      "Latvia         29.290504\n",
      "Switzerland    29.299351\n",
      "Guernsey       29.361565\n",
      "Austria        29.361574\n",
      "Italy          29.493257\n",
      "Name: Dependency Ratio, dtype: float64\n"
     ]
    }
   ],
   "source": [
    "print(dependency_df.sort_values(ascending = True).head(n=10))"
   ]
  },
  {
   "cell_type": "markdown",
   "id": "4273c403",
   "metadata": {},
   "source": [
    "#### From what we can observe from the data, Niger and Uganda can be seen having high dependency ratio which indicates that the ratio of working population to the children and elderly population is almost 1 to 1. This can put high burden onto the working population. \n",
    "#### On the other hand, Monaco and Jersey has relatively low dependency ratio which puts lesser burden on the working population."
   ]
  },
  {
   "cell_type": "code",
   "execution_count": null,
   "id": "aa90ebc2",
   "metadata": {},
   "outputs": [],
   "source": []
  },
  {
   "cell_type": "markdown",
   "id": "8493f509",
   "metadata": {},
   "source": [
    "### Looking into the general trends of age group ratios, we can derive ratios or proportions of population within different age groups (e.g., children, working-age adults, elderly) relative to the total population. This can help identify shifts in age distributions over time."
   ]
  },
  {
   "cell_type": "code",
   "execution_count": 20,
   "id": "8c4b0dea",
   "metadata": {},
   "outputs": [],
   "source": [
    "#Calculate age group ratios\n",
    "group_df = df[['Country name', 'Year']]\n",
    "\n",
    "group_df.loc[:, ['children_ratio']] = df['Population of children under the age of 15'] / df['Population']\n",
    "group_df.loc[:, ['working_adults_ratio']] = df['Population aged 15 to 64 years'] / df['Population']\n",
    "group_df.loc[:, ['elderly_ratio']] = (df['Population older than 15 years'] - df['Population aged 15 to 64 years']) / df['Population']"
   ]
  },
  {
   "cell_type": "code",
   "execution_count": 21,
   "id": "c4f4883b",
   "metadata": {},
   "outputs": [
    {
     "data": {
      "image/png": "[encoded data removed]",
      "text/plain": [
       "<Figure size 1200x600 with 2 Axes>"
      ]
     },
     "metadata": {},
     "output_type": "display_data"
    }
   ],
   "source": [
    "# Using the dependency ratio found previously, we want to see the trend for the most dependent and least dependent countries\n",
    "# found in the dataset, namely niger and monaco respectively. \n",
    "\n",
    "#filter out the data for both countries\n",
    "monaco_data = group_df[group_df['Country name'] == 'Monaco']\n",
    "niger_data = group_df[group_df['Country name'] == 'Niger']\n",
    "\n",
    "# Create subplots\n",
    "f, ax = plt.subplots(1, 2, figsize=(12, 6))\n",
    "\n",
    "# Plot Monaco data\n",
    "ax[0].plot(monaco_data['Year'], monaco_data['children_ratio'], label='Children Ratio')\n",
    "ax[0].plot(monaco_data['Year'], monaco_data['working_adults_ratio'], label='Working Adults Ratio')\n",
    "ax[0].plot(monaco_data['Year'], monaco_data['elderly_ratio'], label='Elderly Ratio')\n",
    "ax[0].set_title('Monaco Population ratios over time')\n",
    "ax[0].set_xlabel('Year')\n",
    "ax[0].set_ylabel('Ratio')\n",
    "ax[0].legend()\n",
    "\n",
    "# Plot Niger data\n",
    "ax[1].plot(niger_data['Year'], niger_data['children_ratio'], label='Children Ratio')\n",
    "ax[1].plot(niger_data['Year'], niger_data['working_adults_ratio'], label='Working Adults Ratio')\n",
    "ax[1].plot(niger_data['Year'], niger_data['elderly_ratio'], label='Elderly Ratio')\n",
    "ax[1].set_title('Niger Population ratios over time')\n",
    "ax[1].set_xlabel('Year')\n",
    "ax[1].set_ylabel('Ratio')\n",
    "ax[1].legend()\n",
    "\n",
    "# Adjust layout and display the plot\n",
    "plt.tight_layout()\n",
    "plt.show()"
   ]
  },
  {
   "cell_type": "markdown",
   "id": "81ccf5be",
   "metadata": {},
   "source": [
    "#### From the data shown, it is evident why there is a high dependency ratio in Niger compared to Monaco. Although the elderly ratio is rather low for Niger, the children to working adults ratio seems to be almost 1 to 1, which contributes heavily to the high dependency ratio for Niger. This can potential signal to countries that more policy can be taken in education so that the children can transition better into adulthood. \n",
    "#### As for Monaco, the ratio of elderly and children is relatively lesser compared to its working adults ratio, which contributes to her low dependency ratio. However, it is key to note that country is progressing towards an ageing population, as evident from the low children ratio, steep increase in elderly ratio and the falling working adults ratio. This can help to signal to policy makers about the need to curb the low birth rate and also to accomodate more facilities for the growing elderly population."
   ]
  },
  {
   "cell_type": "code",
   "execution_count": null,
   "id": "2a990f89",
   "metadata": {},
   "outputs": [],
   "source": []
  },
  {
   "cell_type": "markdown",
   "id": "0a0f6852",
   "metadata": {},
   "source": [
    "### To train the model to give us better prediction of the expected dependency ratio, we will be looking into Random Forest Regression as well as ARIMA (AutoRegressive Integrated Moving Average) time series forecasting to predict expected trends of different group ratios."
   ]
  },
  {
   "cell_type": "markdown",
   "id": "ef4ec7e3",
   "metadata": {},
   "source": [
    "### Machine-learning model 1:\n",
    "\n",
    "#### The first model we will be analysing will be Random Forest Regression, using the features of fertility rate, population growth and elderly ratio trends (life expectancy) to predict the expected dependency ratio for individual countries as time progresses. This can help government officials to better pre-planned necessary policies to help their population in the future."
   ]
  },
  {
   "cell_type": "code",
   "execution_count": 22,
   "id": "ab67df3f",
   "metadata": {},
   "outputs": [],
   "source": [
    "from sklearn.model_selection import train_test_split\n",
    "from sklearn.ensemble import RandomForestRegressor\n",
    "from sklearn.metrics import mean_squared_error, r2_score\n",
    "\n",
    "merged_features = pd.merge(group_df, df, on=['Country name', 'Year'])\n",
    "merged_features = pd.merge(merged_features, population_growth, on=['Country name', 'Year'])\n",
    "merged_features.dropna(inplace=True) \n",
    "\n",
    "selected_features = ['Population of children under the age of 1', \n",
    "                    'Population Growth Rate', 'elderly_ratio']\n",
    "\n",
    "X = merged_features[selected_features].values \n",
    "y = df['Dependency Ratio'] \n",
    "\n",
    "X_train, X_test, y_train, y_test = train_test_split(X, y, test_size=0.2, random_state=42)\n",
    "\n",
    "# Initialize the random forest regressor\n",
    "rf_regressor = RandomForestRegressor(n_estimators=100, random_state=42)\n",
    "\n",
    "rf_regressor.fit(X_train, y_train)\n",
    "y_pred = rf_regressor.predict(X_test)"
   ]
  },
  {
   "cell_type": "code",
   "execution_count": 23,
   "id": "0e9e9b96",
   "metadata": {},
   "outputs": [
    {
     "name": "stdout",
     "output_type": "stream",
     "text": [
      "Mean Squared Error: 69.79243643274509\n",
      "R-squared Score: 0.8825149395749277\n"
     ]
    }
   ],
   "source": [
    "# Calculate the mean squared error\n",
    "mse = mean_squared_error(y_test, y_pred)\n",
    "print(f\"Mean Squared Error: {mse}\")\n",
    "r2 = r2_score(y_test, y_pred)\n",
    "print(f\"R-squared Score: {r2}\")"
   ]
  },
  {
   "cell_type": "markdown",
   "id": "5f129287",
   "metadata": {},
   "source": [
    "#### As seen from the R2 and MSE score, it has shown that the model is able to predict the values with an accuracy of 0.882 in R2 score and a low mean squared error of 69.8.\n",
    "\n",
    "#### However, it is important to note that though random forest regression model is able to somewhat predict the dependency ratio from the individual features, it is unable to forecast the dependency ratio for the future years."
   ]
  },
  {
   "cell_type": "code",
   "execution_count": null,
   "id": "5c00504b",
   "metadata": {},
   "outputs": [],
   "source": []
  },
  {
   "cell_type": "markdown",
   "id": "9a2dfd7d",
   "metadata": {},
   "source": [
    "### Machine-learning model 2:\n",
    "\n",
    "#### Hence, we will be looking at the second model ARIMA (Autoregressive integrated moving average) which is able to forecast the individual data in the dataset by analysing the trend as well as identifying its p: The lag order, representing the number of lag observations incorporated in the model, d: Degree of differencing, denoting the number of times raw observations undergo differencing,  q: Order of moving average, indicating the size of the moving average window. \n",
    "\n",
    "#### This can be achieved through making use of auto arima that helps us to identify the proper model parameters suitable for different data that we are analysing. For implementation of this model, we will look into Singapore data to see how it forecast future predictions."
   ]
  },
  {
   "cell_type": "code",
   "execution_count": 24,
   "id": "ac33a0d5",
   "metadata": {},
   "outputs": [
    {
     "data": {
      "text/plain": [
       "<Axes: xlabel='Year'>"
      ]
     },
     "execution_count": 24,
     "metadata": {},
     "output_type": "execute_result"
    },
    {
     "data": {
      "image/png": "[encoded data removed]",
      "text/plain": [
       "<Figure size 1200x500 with 1 Axes>"
      ]
     },
     "metadata": {},
     "output_type": "display_data"
    }
   ],
   "source": [
    "from pmdarima import auto_arima\n",
    "import warnings\n",
    "warnings.filterwarnings('ignore')\n",
    "from statsmodels.tsa.arima.model import ARIMA\n",
    "\n",
    "def get_country_data(df, country):\n",
    "    country_data = df.copy()\n",
    "    country_data = country_data[country_data['Country name'] == country]\n",
    "    country_data.drop(country_data.columns[:1], axis=1, inplace=True)\n",
    "\n",
    "    return country_data\n",
    "\n",
    "country_data = get_country_data(merged_features, 'Singapore')\n",
    "country_data.plot(x = 'Year', y = 'children_ratio', figsize=(12,5))"
   ]
  },
  {
   "cell_type": "code",
   "execution_count": 25,
   "id": "ceb205c2",
   "metadata": {},
   "outputs": [
    {
     "name": "stdout",
     "output_type": "stream",
     "text": [
      "1) ADF:  -3.4000435719289217\n",
      "2) P-Value:  0.010957386334151\n",
      "3) Num of lags:  10\n"
     ]
    }
   ],
   "source": [
    "from statsmodels.tsa.stattools import adfuller\n",
    "\n",
    "def adTest(data):\n",
    "    datatest = adfuller(data, autolag = 'AIC')\n",
    "    print(\"1) ADF: \", datatest[0])\n",
    "    print(\"2) P-Value: \", datatest[1]) #Value to show whether this data set is suitable for ARIMA\n",
    "    print(\"3) Num of lags: \", datatest[2])\n",
    "\n",
    "    \n",
    "adTest(country_data['children_ratio'])"
   ]
  },
  {
   "cell_type": "code",
   "execution_count": 26,
   "id": "9e54135c",
   "metadata": {},
   "outputs": [],
   "source": [
    "# Get the best ARIMA model (p,d,q) values using auto ARIMA\n",
    "\n",
    "def get_model(df, pred_col):\n",
    "    step_fit = auto_arima(df[pred_col], trace=True, suppress_warnings = True)\n",
    "    p, d, q = step_fit.order\n",
    "    \n",
    "    train = df.iloc[:-15]\n",
    "    test = df.iloc[-15:]\n",
    "    \n",
    "    # From the auto ARIMA, we can see which ARIMA is the best model for this specific column for country_data\n",
    "\n",
    "    model = ARIMA(train[pred_col], order = (p,d,q))\n",
    "    model = model.fit()\n",
    "    \n",
    "    return model, train, test"
   ]
  },
  {
   "cell_type": "code",
   "execution_count": 27,
   "id": "e4b8b297",
   "metadata": {},
   "outputs": [
    {
     "name": "stdout",
     "output_type": "stream",
     "text": [
      "Performing stepwise search to minimize aic\n",
      " ARIMA(2,1,2)(0,0,0)[0] intercept   : AIC=-788.270, Time=0.12 sec\n",
      " ARIMA(0,1,0)(0,0,0)[0] intercept   : AIC=-538.285, Time=0.04 sec\n",
      " ARIMA(1,1,0)(0,0,0)[0] intercept   : AIC=-726.581, Time=0.09 sec\n",
      " ARIMA(0,1,1)(0,0,0)[0] intercept   : AIC=inf, Time=0.07 sec\n",
      " ARIMA(0,1,0)(0,0,0)[0]             : AIC=-508.049, Time=0.01 sec\n",
      " ARIMA(1,1,2)(0,0,0)[0] intercept   : AIC=-789.291, Time=0.05 sec\n",
      " ARIMA(0,1,2)(0,0,0)[0] intercept   : AIC=-708.694, Time=0.07 sec\n",
      " ARIMA(1,1,1)(0,0,0)[0] intercept   : AIC=-788.167, Time=0.04 sec\n",
      " ARIMA(1,1,3)(0,0,0)[0] intercept   : AIC=-788.537, Time=0.05 sec\n",
      " ARIMA(0,1,3)(0,0,0)[0] intercept   : AIC=-736.636, Time=0.08 sec\n",
      " ARIMA(2,1,1)(0,0,0)[0] intercept   : AIC=-785.643, Time=0.03 sec\n",
      " ARIMA(2,1,3)(0,0,0)[0] intercept   : AIC=-780.354, Time=0.08 sec\n",
      " ARIMA(1,1,2)(0,0,0)[0]             : AIC=-792.469, Time=0.08 sec\n",
      " ARIMA(0,1,2)(0,0,0)[0]             : AIC=-682.863, Time=0.05 sec\n",
      " ARIMA(1,1,1)(0,0,0)[0]             : AIC=-790.260, Time=0.03 sec\n",
      " ARIMA(2,1,2)(0,0,0)[0]             : AIC=-791.439, Time=0.07 sec\n",
      " ARIMA(1,1,3)(0,0,0)[0]             : AIC=-792.465, Time=0.05 sec\n",
      " ARIMA(0,1,1)(0,0,0)[0]             : AIC=inf, Time=0.04 sec\n",
      " ARIMA(0,1,3)(0,0,0)[0]             : AIC=-717.654, Time=0.08 sec\n",
      " ARIMA(2,1,1)(0,0,0)[0]             : AIC=-788.066, Time=0.03 sec\n",
      " ARIMA(2,1,3)(0,0,0)[0]             : AIC=-792.429, Time=0.04 sec\n",
      "\n",
      "Best model:  ARIMA(1,1,2)(0,0,0)[0]          \n",
      "Total fit time: 1.208 seconds\n",
      "(57, 25) (15, 25)\n"
     ]
    }
   ],
   "source": [
    "model, train, test = get_model(country_data, 'children_ratio')\n",
    "print(train.shape, test.shape)"
   ]
  },
  {
   "cell_type": "code",
   "execution_count": 28,
   "id": "20033f58",
   "metadata": {},
   "outputs": [
    {
     "data": {
      "text/html": [
       "<table class=\"simpletable\">\n",
       "<caption>SARIMAX Results</caption>\n",
       "<tr>\n",
       "  <th>Dep. Variable:</th>    <td>children_ratio</td>  <th>  No. Observations:  </th>    <td>57</td>   \n",
       "</tr>\n",
       "<tr>\n",
       "  <th>Model:</th>            <td>ARIMA(1, 1, 2)</td>  <th>  Log Likelihood     </th>  <td>316.548</td>\n",
       "</tr>\n",
       "<tr>\n",
       "  <th>Date:</th>            <td>Sat, 20 Apr 2024</td> <th>  AIC                </th> <td>-625.097</td>\n",
       "</tr>\n",
       "<tr>\n",
       "  <th>Time:</th>                <td>20:53:26</td>     <th>  BIC                </th> <td>-616.996</td>\n",
       "</tr>\n",
       "<tr>\n",
       "  <th>Sample:</th>                  <td>0</td>        <th>  HQIC               </th> <td>-621.956</td>\n",
       "</tr>\n",
       "<tr>\n",
       "  <th></th>                       <td> - 57</td>      <th>                     </th>     <td> </td>   \n",
       "</tr>\n",
       "<tr>\n",
       "  <th>Covariance Type:</th>        <td>opg</td>       <th>                     </th>     <td> </td>   \n",
       "</tr>\n",
       "</table>\n",
       "<table class=\"simpletable\">\n",
       "<tr>\n",
       "     <td></td>       <th>coef</th>     <th>std err</th>      <th>z</th>      <th>P>|z|</th>  <th>[0.025</th>    <th>0.975]</th>  \n",
       "</tr>\n",
       "<tr>\n",
       "  <th>ar.L1</th>  <td>    0.9561</td> <td>    0.039</td> <td>   24.487</td> <td> 0.000</td> <td>    0.880</td> <td>    1.033</td>\n",
       "</tr>\n",
       "<tr>\n",
       "  <th>ma.L1</th>  <td>    1.1544</td> <td>    0.114</td> <td>   10.089</td> <td> 0.000</td> <td>    0.930</td> <td>    1.379</td>\n",
       "</tr>\n",
       "<tr>\n",
       "  <th>ma.L2</th>  <td>    0.3497</td> <td>    0.133</td> <td>    2.631</td> <td> 0.009</td> <td>    0.089</td> <td>    0.610</td>\n",
       "</tr>\n",
       "<tr>\n",
       "  <th>sigma2</th> <td> 6.424e-07</td> <td> 1.42e-07</td> <td>    4.539</td> <td> 0.000</td> <td> 3.65e-07</td> <td>  9.2e-07</td>\n",
       "</tr>\n",
       "</table>\n",
       "<table class=\"simpletable\">\n",
       "<tr>\n",
       "  <th>Ljung-Box (L1) (Q):</th>     <td>0.91</td> <th>  Jarque-Bera (JB):  </th> <td>0.23</td> \n",
       "</tr>\n",
       "<tr>\n",
       "  <th>Prob(Q):</th>                <td>0.34</td> <th>  Prob(JB):          </th> <td>0.89</td> \n",
       "</tr>\n",
       "<tr>\n",
       "  <th>Heteroskedasticity (H):</th> <td>1.13</td> <th>  Skew:              </th> <td>-0.08</td>\n",
       "</tr>\n",
       "<tr>\n",
       "  <th>Prob(H) (two-sided):</th>    <td>0.79</td> <th>  Kurtosis:          </th> <td>2.73</td> \n",
       "</tr>\n",
       "</table><br/><br/>Warnings:<br/>[1] Covariance matrix calculated using the outer product of gradients (complex-step)."
      ],
      "text/latex": [
       "\\begin{center}\n",
       "\\begin{tabular}{lclc}\n",
       "\\toprule\n",
       "\\textbf{Dep. Variable:}          & children\\_ratio  & \\textbf{  No. Observations:  } &     57      \\\\\n",
       "\\textbf{Model:}                  &  ARIMA(1, 1, 2)  & \\textbf{  Log Likelihood     } &  316.548    \\\\\n",
       "\\textbf{Date:}                   & Sat, 20 Apr 2024 & \\textbf{  AIC                } &  -625.097   \\\\\n",
       "\\textbf{Time:}                   &     20:53:26     & \\textbf{  BIC                } &  -616.996   \\\\\n",
       "\\textbf{Sample:}                 &        0         & \\textbf{  HQIC               } &  -621.956   \\\\\n",
       "\\textbf{}                        &       - 57       & \\textbf{                     } &             \\\\\n",
       "\\textbf{Covariance Type:}        &       opg        & \\textbf{                     } &             \\\\\n",
       "\\bottomrule\n",
       "\\end{tabular}\n",
       "\\begin{tabular}{lcccccc}\n",
       "                & \\textbf{coef} & \\textbf{std err} & \\textbf{z} & \\textbf{P$> |$z$|$} & \\textbf{[0.025} & \\textbf{0.975]}  \\\\\n",
       "\\midrule\n",
       "\\textbf{ar.L1}  &       0.9561  &        0.039     &    24.487  &         0.000        &        0.880    &        1.033     \\\\\n",
       "\\textbf{ma.L1}  &       1.1544  &        0.114     &    10.089  &         0.000        &        0.930    &        1.379     \\\\\n",
       "\\textbf{ma.L2}  &       0.3497  &        0.133     &     2.631  &         0.009        &        0.089    &        0.610     \\\\\n",
       "\\textbf{sigma2} &    6.424e-07  &     1.42e-07     &     4.539  &         0.000        &     3.65e-07    &      9.2e-07     \\\\\n",
       "\\bottomrule\n",
       "\\end{tabular}\n",
       "\\begin{tabular}{lclc}\n",
       "\\textbf{Ljung-Box (L1) (Q):}     & 0.91 & \\textbf{  Jarque-Bera (JB):  } &  0.23  \\\\\n",
       "\\textbf{Prob(Q):}                & 0.34 & \\textbf{  Prob(JB):          } &  0.89  \\\\\n",
       "\\textbf{Heteroskedasticity (H):} & 1.13 & \\textbf{  Skew:              } & -0.08  \\\\\n",
       "\\textbf{Prob(H) (two-sided):}    & 0.79 & \\textbf{  Kurtosis:          } &  2.73  \\\\\n",
       "\\bottomrule\n",
       "\\end{tabular}\n",
       "%\\caption{SARIMAX Results}\n",
       "\\end{center}\n",
       "\n",
       "Warnings: \\newline\n",
       " [1] Covariance matrix calculated using the outer product of gradients (complex-step)."
      ],
      "text/plain": [
       "<class 'statsmodels.iolib.summary.Summary'>\n",
       "\"\"\"\n",
       "                               SARIMAX Results                                \n",
       "==============================================================================\n",
       "Dep. Variable:         children_ratio   No. Observations:                   57\n",
       "Model:                 ARIMA(1, 1, 2)   Log Likelihood                 316.548\n",
       "Date:                Sat, 20 Apr 2024   AIC                           -625.097\n",
       "Time:                        20:53:26   BIC                           -616.996\n",
       "Sample:                             0   HQIC                          -621.956\n",
       "                                 - 57                                         \n",
       "Covariance Type:                  opg                                         \n",
       "==============================================================================\n",
       "                 coef    std err          z      P>|z|      [0.025      0.975]\n",
       "------------------------------------------------------------------------------\n",
       "ar.L1          0.9561      0.039     24.487      0.000       0.880       1.033\n",
       "ma.L1          1.1544      0.114     10.089      0.000       0.930       1.379\n",
       "ma.L2          0.3497      0.133      2.631      0.009       0.089       0.610\n",
       "sigma2      6.424e-07   1.42e-07      4.539      0.000    3.65e-07     9.2e-07\n",
       "===================================================================================\n",
       "Ljung-Box (L1) (Q):                   0.91   Jarque-Bera (JB):                 0.23\n",
       "Prob(Q):                              0.34   Prob(JB):                         0.89\n",
       "Heteroskedasticity (H):               1.13   Skew:                            -0.08\n",
       "Prob(H) (two-sided):                  0.79   Kurtosis:                         2.73\n",
       "===================================================================================\n",
       "\n",
       "Warnings:\n",
       "[1] Covariance matrix calculated using the outer product of gradients (complex-step).\n",
       "\"\"\""
      ]
     },
     "execution_count": 28,
     "metadata": {},
     "output_type": "execute_result"
    }
   ],
   "source": [
    "model.summary()"
   ]
  },
  {
   "cell_type": "code",
   "execution_count": 29,
   "id": "c4c8c31a",
   "metadata": {},
   "outputs": [
    {
     "name": "stdout",
     "output_type": "stream",
     "text": [
      "2007    0.165431\n",
      "2008    0.161767\n",
      "2009    0.158264\n",
      "2010    0.154914\n",
      "2011    0.151711\n",
      "2012    0.148649\n",
      "2013    0.145721\n",
      "2014    0.142922\n",
      "2015    0.140245\n",
      "2016    0.137685\n",
      "2017    0.135238\n",
      "2018    0.132898\n",
      "2019    0.130661\n",
      "2020    0.128522\n",
      "2021    0.126476\n",
      "Name: predicted_mean, dtype: float64\n"
     ]
    }
   ],
   "source": [
    "start = len(train)\n",
    "end = len(train) + len(test) - 1\n",
    "pred = model.predict(start=start, end=end, typ='levels')\n",
    "pred.index = pred.index + 1950 #Match the index with the actual years\n",
    "print(pred)"
   ]
  },
  {
   "cell_type": "code",
   "execution_count": 30,
   "id": "89bcabc5",
   "metadata": {},
   "outputs": [
    {
     "data": {
      "image/png": "[encoded data removed]",
      "text/plain": [
       "<Figure size 1000x600 with 1 Axes>"
      ]
     },
     "metadata": {},
     "output_type": "display_data"
    }
   ],
   "source": [
    "test.set_index('Year', inplace=True)\n",
    "\n",
    "# Plotting\n",
    "plt.figure(figsize=(10, 6))\n",
    "plt.plot(test.index, test['children_ratio'], label='Actual Children Ratio')\n",
    "plt.plot(test.index, pred.values, label='Predicted Children Ratio')\n",
    "plt.xlabel('Year')\n",
    "plt.ylabel('Children Ratio')\n",
    "plt.title('Actual vs Predicted Children Ratio')\n",
    "plt.legend()\n",
    "plt.grid(True)\n",
    "plt.show()"
   ]
  },
  {
   "cell_type": "markdown",
   "id": "61014481",
   "metadata": {},
   "source": [
    "#### Looking into the graph of actual vs predicted value of children ratio, it is somewhat able to follow the trend. To analyse the accuracy of the model more clearly, we use RMSE to check for error deviation between actual vs predicted."
   ]
  },
  {
   "cell_type": "code",
   "execution_count": 31,
   "id": "39f4a133",
   "metadata": {},
   "outputs": [
    {
     "name": "stdout",
     "output_type": "stream",
     "text": [
      "0.01015361268216424\n"
     ]
    }
   ],
   "source": [
    "from sklearn.metrics import mean_squared_error\n",
    "from math import sqrt\n",
    "\n",
    "rmse = sqrt(mean_squared_error(pred,test['children_ratio']))\n",
    "print(rmse)"
   ]
  },
  {
   "cell_type": "markdown",
   "id": "9e8de3a8",
   "metadata": {},
   "source": [
    "### To forecast future ratios, we simply increase the time frame of the dataset to include future years in the prediction model. Here, we examine the children ratio 10 years after 2021."
   ]
  },
  {
   "cell_type": "code",
   "execution_count": 32,
   "id": "feb4b8b4",
   "metadata": {},
   "outputs": [],
   "source": [
    "def predict_model(model, country_data, years):\n",
    "    pred = model.predict(start=len(country_data), end=len(country_data)+years, typ = 'levels').rename('future predictions')\n",
    "    pred.index = pred.index + 1950 #Match the index with the actual years\n",
    "    \n",
    "    return pred"
   ]
  },
  {
   "cell_type": "code",
   "execution_count": 33,
   "id": "11870fb4",
   "metadata": {},
   "outputs": [
    {
     "name": "stdout",
     "output_type": "stream",
     "text": [
      "2022    0.124521\n",
      "2023    0.122651\n",
      "2024    0.120863\n",
      "2025    0.119153\n",
      "2026    0.117519\n",
      "2027    0.115956\n",
      "2028    0.114461\n",
      "2029    0.113032\n",
      "2030    0.111666\n",
      "2031    0.110360\n",
      "2032    0.109111\n",
      "Name: future predictions, dtype: float64\n"
     ]
    }
   ],
   "source": [
    "pred = predict_model(model, country_data, 10)\n",
    "print(pred)"
   ]
  },
  {
   "cell_type": "code",
   "execution_count": 34,
   "id": "6638398a",
   "metadata": {},
   "outputs": [
    {
     "data": {
      "text/plain": [
       "<Axes: >"
      ]
     },
     "execution_count": 34,
     "metadata": {},
     "output_type": "execute_result"
    },
    {
     "data": {
      "image/png": "[encoded data removed]",
      "text/plain": [
       "<Figure size 1200x500 with 1 Axes>"
      ]
     },
     "metadata": {},
     "output_type": "display_data"
    }
   ],
   "source": [
    "pred.plot(figsize = (12,5), legend=True)"
   ]
  },
  {
   "cell_type": "code",
   "execution_count": null,
   "id": "148f12d3",
   "metadata": {},
   "outputs": [],
   "source": []
  },
  {
   "cell_type": "markdown",
   "id": "9ed0e14b",
   "metadata": {},
   "source": [
    "### For this dataset, we have looked into dependency ratio, general trends of age groups as well as how higher birth rate can affect a countries population growth rate. To tackle future forecast for different age groups of individual countries, we looked into 2 different machine-learning techniques that help to predict future outcomes.\n",
    "\n",
    "### Although random forest regression model works quite well in predicting the test cases, it was not our end goal in mind as we want to predict values past the actual timeline of the dataset. Hence, we feel that ARIMA model achieve its intended purpose of predicting future values for us and has a low RMSE when compared to the test case.\n",
    "\n",
    "#### Lastly, we feel that by generating such prediction data by looking into current population trends, this can help to further aid government officials to implement certain policies to tackle issues that are signalled by the data collected from the model."
   ]
  },
  {
   "cell_type": "code",
   "execution_count": null,
   "id": "5bac5069",
   "metadata": {},
   "outputs": [],
   "source": []
  },
  {
   "cell_type": "code",
   "execution_count": 35,
   "id": "74c079b3",
   "metadata": {},
   "outputs": [
    {
     "name": "stdout",
     "output_type": "stream",
     "text": [
      "Collecting dash\n",
      "  Obtaining dependency information for dash from https://files.pythonhosted.org/packages/b0/68/781d0026a100106b64e4501c76621dfcd0d3c29a546094fcffaa73037a74/dash-2.16.1-py3-none-any.whl.metadata\n",
      "  Downloading dash-2.16.1-py3-none-any.whl.metadata (10 kB)\n",
      "Requirement already satisfied: plotly in c:\\users\\marvy\\anaconda3\\lib\\site-packages (5.9.0)\n",
      "Requirement already satisfied: Flask<3.1,>=1.0.4 in c:\\users\\marvy\\anaconda3\\lib\\site-packages (from dash) (2.2.2)\n",
      "Requirement already satisfied: Werkzeug<3.1 in c:\\users\\marvy\\anaconda3\\lib\\site-packages (from dash) (2.2.3)\n",
      "Collecting dash-html-components==2.0.0 (from dash)\n",
      "  Obtaining dependency information for dash-html-components==2.0.0 from https://files.pythonhosted.org/packages/75/65/1b16b853844ef59b2742a7de74a598f376ac0ab581f0dcc34db294e5c90e/dash_html_components-2.0.0-py3-none-any.whl.metadata\n",
      "  Downloading dash_html_components-2.0.0-py3-none-any.whl.metadata (3.8 kB)\n",
      "Collecting dash-core-components==2.0.0 (from dash)\n",
      "  Obtaining dependency information for dash-core-components==2.0.0 from https://files.pythonhosted.org/packages/00/9e/a29f726e84e531a36d56cff187e61d8c96d2cc253c5bcef9a7695acb7e6a/dash_core_components-2.0.0-py3-none-any.whl.metadata\n",
      "  Downloading dash_core_components-2.0.0-py3-none-any.whl.metadata (2.9 kB)\n",
      "Collecting dash-table==5.0.0 (from dash)\n",
      "  Obtaining dependency information for dash-table==5.0.0 from https://files.pythonhosted.org/packages/da/ce/43f77dc8e7bbad02a9f88d07bf794eaf68359df756a28bb9f2f78e255bb1/dash_table-5.0.0-py3-none-any.whl.metadata\n",
      "  Downloading dash_table-5.0.0-py3-none-any.whl.metadata (2.4 kB)\n",
      "Requirement already satisfied: importlib-metadata in c:\\users\\marvy\\anaconda3\\lib\\site-packages (from dash) (6.0.0)\n",
      "Requirement already satisfied: typing-extensions>=4.1.1 in c:\\users\\marvy\\anaconda3\\lib\\site-packages (from dash) (4.7.1)\n",
      "Requirement already satisfied: requests in c:\\users\\marvy\\anaconda3\\lib\\site-packages (from dash) (2.31.0)\n",
      "Collecting retrying (from dash)\n",
      "  Obtaining dependency information for retrying from https://files.pythonhosted.org/packages/8f/04/9e36f28be4c0532c0e9207ff9dc01fb13a2b0eb036476a213b0000837d0e/retrying-1.3.4-py3-none-any.whl.metadata\n",
      "  Downloading retrying-1.3.4-py3-none-any.whl.metadata (6.9 kB)\n",
      "Requirement already satisfied: nest-asyncio in c:\\users\\marvy\\anaconda3\\lib\\site-packages (from dash) (1.5.6)\n",
      "Requirement already satisfied: setuptools in c:\\users\\marvy\\anaconda3\\lib\\site-packages (from dash) (68.0.0)\n",
      "Requirement already satisfied: tenacity>=6.2.0 in c:\\users\\marvy\\anaconda3\\lib\\site-packages (from plotly) (8.2.2)\n",
      "Requirement already satisfied: Jinja2>=3.0 in c:\\users\\marvy\\anaconda3\\lib\\site-packages (from Flask<3.1,>=1.0.4->dash) (3.1.2)\n",
      "Requirement already satisfied: itsdangerous>=2.0 in c:\\users\\marvy\\anaconda3\\lib\\site-packages (from Flask<3.1,>=1.0.4->dash) (2.0.1)\n",
      "Requirement already satisfied: click>=8.0 in c:\\users\\marvy\\anaconda3\\lib\\site-packages (from Flask<3.1,>=1.0.4->dash) (8.0.4)\n",
      "Requirement already satisfied: MarkupSafe>=2.1.1 in c:\\users\\marvy\\anaconda3\\lib\\site-packages (from Werkzeug<3.1->dash) (2.1.1)\n",
      "Requirement already satisfied: zipp>=0.5 in c:\\users\\marvy\\anaconda3\\lib\\site-packages (from importlib-metadata->dash) (3.11.0)\n",
      "Requirement already satisfied: charset-normalizer<4,>=2 in c:\\users\\marvy\\anaconda3\\lib\\site-packages (from requests->dash) (2.0.4)\n",
      "Requirement already satisfied: idna<4,>=2.5 in c:\\users\\marvy\\anaconda3\\lib\\site-packages (from requests->dash) (3.4)\n",
      "Requirement already satisfied: urllib3<3,>=1.21.1 in c:\\users\\marvy\\anaconda3\\lib\\site-packages (from requests->dash) (1.26.16)\n",
      "Requirement already satisfied: certifi>=2017.4.17 in c:\\users\\marvy\\anaconda3\\lib\\site-packages (from requests->dash) (2023.11.17)\n",
      "Requirement already satisfied: six>=1.7.0 in c:\\users\\marvy\\anaconda3\\lib\\site-packages (from retrying->dash) (1.16.0)\n",
      "Requirement already satisfied: colorama in c:\\users\\marvy\\anaconda3\\lib\\site-packages (from click>=8.0->Flask<3.1,>=1.0.4->dash) (0.4.6)\n",
      "Downloading dash-2.16.1-py3-none-any.whl (10.2 MB)\n",
      "   ---------------------------------------- 0.0/10.2 MB ? eta -:--:--\n",
      "   - -------------------------------------- 0.3/10.2 MB 8.3 MB/s eta 0:00:02\n",
      "   --- ------------------------------------ 0.8/10.2 MB 9.8 MB/s eta 0:00:01\n",
      "   ---- ----------------------------------- 1.1/10.2 MB 9.1 MB/s eta 0:00:01\n",
      "   ------ --------------------------------- 1.6/10.2 MB 9.2 MB/s eta 0:00:01\n",
      "   -------- ------------------------------- 2.1/10.2 MB 9.5 MB/s eta 0:00:01\n",
      "   --------- ------------------------------ 2.4/10.2 MB 9.2 MB/s eta 0:00:01\n",
      "   ----------- ---------------------------- 2.9/10.2 MB 9.3 MB/s eta 0:00:01\n",
      "   ------------- -------------------------- 3.4/10.2 MB 9.5 MB/s eta 0:00:01\n",
      "   -------------- ------------------------- 3.8/10.2 MB 9.3 MB/s eta 0:00:01\n",
      "   ---------------- ----------------------- 4.3/10.2 MB 9.4 MB/s eta 0:00:01\n",
      "   ------------------ --------------------- 4.8/10.2 MB 9.5 MB/s eta 0:00:01\n",
      "   -------------------- ------------------- 5.1/10.2 MB 9.4 MB/s eta 0:00:01\n",
      "   --------------------- ------------------ 5.6/10.2 MB 9.7 MB/s eta 0:00:01\n",
      "   ----------------------- ---------------- 6.0/10.2 MB 9.6 MB/s eta 0:00:01\n",
      "   ------------------------- -------------- 6.4/10.2 MB 9.5 MB/s eta 0:00:01\n",
      "   -------------------------- ------------- 6.9/10.2 MB 9.5 MB/s eta 0:00:01\n",
      "   ---------------------------- ----------- 7.4/10.2 MB 9.6 MB/s eta 0:00:01\n",
      "   ------------------------------ --------- 7.8/10.2 MB 9.5 MB/s eta 0:00:01\n",
      "   -------------------------------- ------- 8.2/10.2 MB 9.5 MB/s eta 0:00:01\n",
      "   ---------------------------------- ----- 8.7/10.2 MB 9.6 MB/s eta 0:00:01\n",
      "   ----------------------------------- ---- 9.1/10.2 MB 9.5 MB/s eta 0:00:01\n",
      "   ------------------------------------- -- 9.5/10.2 MB 9.5 MB/s eta 0:00:01\n",
      "   ---------------------------------------  10.0/10.2 MB 9.5 MB/s eta 0:00:01\n",
      "   ---------------------------------------  10.2/10.2 MB 9.6 MB/s eta 0:00:01\n",
      "   ---------------------------------------- 10.2/10.2 MB 9.3 MB/s eta 0:00:00\n",
      "Downloading dash_core_components-2.0.0-py3-none-any.whl (3.8 kB)\n",
      "Downloading dash_html_components-2.0.0-py3-none-any.whl (4.1 kB)\n",
      "Downloading dash_table-5.0.0-py3-none-any.whl (3.9 kB)\n",
      "Downloading retrying-1.3.4-py3-none-any.whl (11 kB)\n",
      "Installing collected packages: dash-table, dash-html-components, dash-core-components, retrying, dash\n",
      "Successfully installed dash-2.16.1 dash-core-components-2.0.0 dash-html-components-2.0.0 dash-table-5.0.0 retrying-1.3.4\n",
      "Note: you may need to restart the kernel to use updated packages.\n"
     ]
    }
   ],
   "source": [
    "pip install dash plotly"
   ]
  },
  {
   "cell_type": "code",
   "execution_count": 36,
   "id": "f8567bf7",
   "metadata": {},
   "outputs": [
    {
     "data": {
      "text/html": [
       "\n",
       "        <iframe\n",
       "            width=\"100%\"\n",
       "            height=\"650\"\n",
       "            src=\"http://127.0.0.1:8050/\"\n",
       "            frameborder=\"0\"\n",
       "            allowfullscreen\n",
       "            \n",
       "        ></iframe>\n",
       "        "
      ],
      "text/plain": [
       "<IPython.lib.display.IFrame at 0x1b249fec6d0>"
      ]
     },
     "metadata": {},
     "output_type": "display_data"
    },
    {
     "name": "stdout",
     "output_type": "stream",
     "text": [
      "Performing stepwise search to minimize aic\n",
      " ARIMA(2,2,2)(0,0,0)[0]             : AIC=-685.689, Time=0.03 sec\n",
      " ARIMA(0,2,0)(0,0,0)[0]             : AIC=-697.836, Time=0.01 sec\n",
      " ARIMA(1,2,0)(0,0,0)[0]             : AIC=-697.453, Time=0.02 sec\n",
      " ARIMA(0,2,1)(0,0,0)[0]             : AIC=-698.128, Time=0.02 sec\n",
      " ARIMA(1,2,1)(0,0,0)[0]             : AIC=-694.022, Time=0.04 sec\n",
      " ARIMA(0,2,2)(0,0,0)[0]             : AIC=-720.445, Time=0.03 sec\n",
      " ARIMA(1,2,2)(0,0,0)[0]             : AIC=-684.283, Time=0.03 sec\n",
      " ARIMA(0,2,3)(0,0,0)[0]             : AIC=-691.838, Time=0.09 sec\n",
      " ARIMA(1,2,3)(0,0,0)[0]             : AIC=-689.262, Time=0.03 sec\n",
      " ARIMA(0,2,2)(0,0,0)[0] intercept   : AIC=-719.255, Time=0.07 sec\n",
      "\n",
      "Best model:  ARIMA(0,2,2)(0,0,0)[0]          \n",
      "Total fit time: 0.379 seconds\n",
      "Performing stepwise search to minimize aic\n",
      "Performing stepwise search to minimize aic\n",
      " ARIMA(2,2,2)(0,0,0)[0]             : AIC=-866.698, Time=0.08 sec\n",
      " ARIMA(0,2,0)(0,0,0)[0]             : AIC=-830.883, Time=0.04 sec\n",
      " ARIMA(1,2,0)(0,0,0)[0]             : AIC=-846.871, Time=0.04 sec\n",
      " ARIMA(2,2,2)(0,0,0)[0]             : AIC=-866.698, Time=0.14 sec\n",
      " ARIMA(0,2,0)(0,0,0)[0]             : AIC=-830.883, Time=0.04 sec\n",
      " ARIMA(0,2,1)(0,0,0)[0]             : AIC=-866.706, Time=0.07 sec\n",
      " ARIMA(1,2,0)(0,0,0)[0]             : AIC=-846.871, Time=0.05 sec\n",
      " ARIMA(1,2,1)(0,0,0)[0]             : AIC=-861.436, Time=0.05 sec\n",
      " ARIMA(0,2,2)(0,0,0)[0]             : AIC=-874.070, Time=0.07 sec\n",
      " ARIMA(0,2,1)(0,0,0)[0]             : AIC=-866.706, Time=0.09 sec\n",
      " ARIMA(1,2,1)(0,0,0)[0]             : AIC=-861.436, Time=0.08 sec\n",
      " ARIMA(0,2,2)(0,0,0)[0]             : AIC=-874.070, Time=0.06 sec\n",
      " ARIMA(1,2,2)(0,0,0)[0]             : AIC=-872.106, Time=0.24 sec\n",
      " ARIMA(0,2,3)(0,0,0)[0]             : AIC=-824.895, Time=0.16 sec\n",
      " ARIMA(1,2,2)(0,0,0)[0]             : AIC=-872.106, Time=0.27 sec\n",
      " ARIMA(1,2,3)(0,0,0)[0]             : AIC=-840.087, Time=0.10 sec\n",
      " ARIMA(0,2,3)(0,0,0)[0]             : AIC=-824.895, Time=0.18 sec\n",
      " ARIMA(0,2,2)(0,0,0)[0] intercept   : AIC=-872.549, Time=0.17 sec\n",
      "\n",
      "Best model:  ARIMA(0,2,2)(0,0,0)[0]          \n",
      "Total fit time: 1.035 seconds\n",
      " ARIMA(1,2,3)(0,0,0)[0]             : AIC=-840.087, Time=0.13 sec\n",
      " ARIMA(0,2,2)(0,0,0)[0] intercept   : AIC=-872.549, Time=0.08 sec\n",
      "\n",
      "Best model:  ARIMA(0,2,2)(0,0,0)[0]          \n",
      "Total fit time: 1.133 seconds\n",
      "Performing stepwise search to minimize aic\n",
      " ARIMA(2,2,2)(0,0,0)[0]             : AIC=-866.698, Time=0.05 sec\n",
      " ARIMA(0,2,0)(0,0,0)[0]             : AIC=-830.883, Time=0.01 sec\n",
      " ARIMA(1,2,0)(0,0,0)[0]             : AIC=-846.871, Time=0.02 sec\n",
      " ARIMA(0,2,1)(0,0,0)[0]             : AIC=-866.706, Time=0.03 sec\n",
      " ARIMA(1,2,1)(0,0,0)[0]             : AIC=-861.436, Time=0.02 sec\n",
      " ARIMA(0,2,2)(0,0,0)[0]             : AIC=-874.070, Time=0.03 sec\n",
      " ARIMA(1,2,2)(0,0,0)[0]             : AIC=-872.106, Time=0.09 sec\n",
      " ARIMA(0,2,3)(0,0,0)[0]             : AIC=-824.895, Time=0.07 sec\n",
      " ARIMA(1,2,3)(0,0,0)[0]             : AIC=-840.087, Time=0.05 sec\n",
      " ARIMA(0,2,2)(0,0,0)[0] intercept   : AIC=-872.549, Time=0.07 sec\n",
      "\n",
      "Best model:  ARIMA(0,2,2)(0,0,0)[0]          \n",
      "Total fit time: 0.437 seconds\n",
      "Performing stepwise search to minimize aic\n",
      " ARIMA(2,1,2)(0,0,0)[0] intercept   : AIC=-851.232, Time=0.05 sec\n",
      " ARIMA(0,1,0)(0,0,0)[0] intercept   : AIC=-509.838, Time=0.01 sec\n",
      " ARIMA(1,1,0)(0,0,0)[0] intercept   : AIC=-746.516, Time=0.05 sec\n",
      " ARIMA(0,1,1)(0,0,0)[0] intercept   : AIC=inf, Time=0.12 sec\n",
      " ARIMA(0,1,0)(0,0,0)[0]             : AIC=-511.819, Time=0.03 sec\n",
      " ARIMA(1,1,2)(0,0,0)[0] intercept   : AIC=-819.141, Time=0.07 sec\n",
      " ARIMA(2,1,1)(0,0,0)[0] intercept   : AIC=-845.395, Time=0.07 sec\n",
      " ARIMA(3,1,2)(0,0,0)[0] intercept   : AIC=-845.580, Time=0.06 sec\n",
      " ARIMA(2,1,3)(0,0,0)[0] intercept   : AIC=-844.837, Time=0.05 sec\n",
      " ARIMA(1,1,1)(0,0,0)[0] intercept   : AIC=-743.163, Time=0.04 sec\n",
      " ARIMA(1,1,3)(0,0,0)[0] intercept   : AIC=-841.918, Time=0.19 sec\n",
      " ARIMA(3,1,1)(0,0,0)[0] intercept   : AIC=-847.010, Time=0.04 sec\n",
      " ARIMA(3,1,3)(0,0,0)[0] intercept   : AIC=-845.754, Time=0.08 sec\n",
      " ARIMA(2,1,2)(0,0,0)[0]             : AIC=-853.659, Time=0.07 sec\n",
      " ARIMA(1,1,2)(0,0,0)[0]             : AIC=-820.845, Time=0.07 sec\n",
      " ARIMA(2,1,1)(0,0,0)[0]             : AIC=-847.197, Time=0.06 sec\n",
      " ARIMA(3,1,2)(0,0,0)[0]             : AIC=-849.565, Time=0.09 sec\n",
      " ARIMA(2,1,3)(0,0,0)[0]             : AIC=-848.653, Time=0.09 sec\n",
      " ARIMA(1,1,1)(0,0,0)[0]             : AIC=-743.775, Time=0.03 sec\n",
      " ARIMA(1,1,3)(0,0,0)[0]             : AIC=-730.058, Time=0.09 sec\n",
      " ARIMA(3,1,1)(0,0,0)[0]             : AIC=-848.737, Time=0.05 sec\n",
      " ARIMA(3,1,3)(0,0,0)[0]             : AIC=-849.472, Time=0.05 sec\n",
      "\n",
      "Best model:  ARIMA(2,1,2)(0,0,0)[0]          \n",
      "Total fit time: 1.474 seconds\n",
      "Performing stepwise search to minimize aic\n",
      " ARIMA(2,1,2)(0,0,0)[0] intercept   : AIC=-827.681, Time=0.05 sec\n",
      " ARIMA(0,1,0)(0,0,0)[0] intercept   : AIC=-507.651, Time=0.01 sec\n",
      " ARIMA(1,1,0)(0,0,0)[0] intercept   : AIC=-743.079, Time=0.04 sec\n",
      " ARIMA(0,1,1)(0,0,0)[0] intercept   : AIC=inf, Time=0.07 sec\n",
      " ARIMA(0,1,0)(0,0,0)[0]             : AIC=-499.988, Time=0.02 sec\n",
      " ARIMA(1,1,2)(0,0,0)[0] intercept   : AIC=-812.050, Time=0.05 sec\n",
      " ARIMA(2,1,1)(0,0,0)[0] intercept   : AIC=-827.773, Time=0.06 sec\n",
      " ARIMA(1,1,1)(0,0,0)[0] intercept   : AIC=-738.967, Time=0.04 sec\n",
      " ARIMA(2,1,0)(0,0,0)[0] intercept   : AIC=-813.995, Time=0.05 sec\n",
      " ARIMA(3,1,1)(0,0,0)[0] intercept   : AIC=-829.275, Time=0.04 sec\n",
      " ARIMA(3,1,0)(0,0,0)[0] intercept   : AIC=-821.378, Time=0.06 sec\n",
      " ARIMA(4,1,1)(0,0,0)[0] intercept   : AIC=-754.508, Time=0.17 sec\n",
      " ARIMA(3,1,2)(0,0,0)[0] intercept   : AIC=-787.804, Time=0.13 sec\n",
      " ARIMA(4,1,0)(0,0,0)[0] intercept   : AIC=-830.477, Time=0.08 sec\n",
      " ARIMA(5,1,0)(0,0,0)[0] intercept   : AIC=-827.468, Time=0.14 sec\n",
      " ARIMA(5,1,1)(0,0,0)[0] intercept   : AIC=-752.804, Time=0.16 sec\n",
      " ARIMA(4,1,0)(0,0,0)[0]             : AIC=-833.787, Time=0.06 sec\n",
      " ARIMA(3,1,0)(0,0,0)[0]             : AIC=-824.831, Time=0.05 sec\n",
      " ARIMA(5,1,0)(0,0,0)[0]             : AIC=-831.704, Time=0.09 sec\n",
      " ARIMA(4,1,1)(0,0,0)[0]             : AIC=-757.426, Time=0.06 sec\n",
      " ARIMA(3,1,1)(0,0,0)[0]             : AIC=-832.813, Time=0.08 sec\n",
      "Performing stepwise search to minimize aic\n",
      " ARIMA(5,1,1)(0,0,0)[0]             : AIC=-754.826, Time=0.12 sec\n",
      "\n",
      "Best model:  ARIMA(4,1,0)(0,0,0)[0]          \n",
      "Total fit time: 1.633 seconds\n",
      " ARIMA(2,1,2)(0,0,0)[0] intercept   : AIC=-827.681, Time=0.19 sec\n",
      " ARIMA(0,1,0)(0,0,0)[0] intercept   : AIC=-507.651, Time=0.01 sec\n",
      " ARIMA(1,1,0)(0,0,0)[0] intercept   : AIC=-743.079, Time=0.04 sec\n",
      " ARIMA(0,1,1)(0,0,0)[0] intercept   : AIC=inf, Time=0.06 sec\n",
      " ARIMA(0,1,0)(0,0,0)[0]             : AIC=-499.988, Time=0.02 sec\n",
      " ARIMA(1,1,2)(0,0,0)[0] intercept   : AIC=-812.050, Time=0.04 sec\n",
      " ARIMA(2,1,1)(0,0,0)[0] intercept   : AIC=-827.773, Time=0.06 sec\n",
      " ARIMA(1,1,1)(0,0,0)[0] intercept   : AIC=-738.967, Time=0.04 sec\n",
      " ARIMA(2,1,0)(0,0,0)[0] intercept   : AIC=-813.995, Time=0.04 sec\n",
      " ARIMA(3,1,1)(0,0,0)[0] intercept   : AIC=-829.275, Time=0.05 sec\n",
      " ARIMA(3,1,0)(0,0,0)[0] intercept   : AIC=-821.378, Time=0.07 sec\n",
      " ARIMA(4,1,1)(0,0,0)[0] intercept   : AIC=-754.508, Time=0.17 sec\n",
      " ARIMA(3,1,2)(0,0,0)[0] intercept   : AIC=-787.804, Time=0.14 sec\n",
      " ARIMA(4,1,0)(0,0,0)[0] intercept   : AIC=-830.477, Time=0.09 sec\n",
      " ARIMA(5,1,0)(0,0,0)[0] intercept   : AIC=-827.468, Time=0.11 sec\n",
      " ARIMA(5,1,1)(0,0,0)[0] intercept   : AIC=-752.804, Time=0.16 sec\n",
      " ARIMA(4,1,0)(0,0,0)[0]             : AIC=-833.787, Time=0.05 sec\n",
      " ARIMA(3,1,0)(0,0,0)[0]             : AIC=-824.831, Time=0.05 sec\n",
      " ARIMA(5,1,0)(0,0,0)[0]             : AIC=-831.704, Time=0.08 sec\n",
      " ARIMA(4,1,1)(0,0,0)[0]             : AIC=-757.426, Time=0.06 sec\n",
      " ARIMA(3,1,1)(0,0,0)[0]             : AIC=-832.813, Time=0.09 sec\n",
      " ARIMA(5,1,1)(0,0,0)[0]             : AIC=-754.826, Time=0.08 sec\n",
      "\n",
      "Best model:  ARIMA(4,1,0)(0,0,0)[0]          \n",
      "Total fit time: 1.700 seconds\n",
      "Performing stepwise search to minimize aic\n",
      " ARIMA(2,2,2)(0,0,0)[0]             : AIC=-898.919, Time=0.04 sec\n",
      " ARIMA(0,2,0)(0,0,0)[0]             : AIC=-906.871, Time=0.01 sec\n",
      " ARIMA(1,2,0)(0,0,0)[0]             : AIC=-937.734, Time=0.03 sec\n",
      " ARIMA(0,2,1)(0,0,0)[0]             : AIC=-959.029, Time=0.03 sec\n",
      " ARIMA(1,2,1)(0,0,0)[0]             : AIC=-952.259, Time=0.09 sec\n"
     ]
    },
    {
     "name": "stdout",
     "output_type": "stream",
     "text": [
      " ARIMA(0,2,2)(0,0,0)[0]             : AIC=-958.327, Time=0.07 sec\n",
      " ARIMA(1,2,2)(0,0,0)[0]             : AIC=-793.633, Time=0.11 sec\n",
      " ARIMA(0,2,1)(0,0,0)[0] intercept   : AIC=-961.247, Time=0.04 sec\n",
      " ARIMA(0,2,0)(0,0,0)[0] intercept   : AIC=-914.641, Time=0.03 sec\n",
      " ARIMA(1,2,1)(0,0,0)[0] intercept   : AIC=-954.864, Time=0.06 sec\n",
      " ARIMA(0,2,2)(0,0,0)[0] intercept   : AIC=-961.319, Time=0.05 sec\n",
      "Performing stepwise search to minimize aic\n",
      " ARIMA(2,2,2)(0,0,0)[0]             : AIC=-898.919, Time=0.08 sec\n",
      " ARIMA(0,2,0)(0,0,0)[0]             : AIC=-906.871, Time=0.03 sec\n",
      " ARIMA(1,2,0)(0,0,0)[0]             : AIC=-937.734, Time=0.08 sec\n",
      " ARIMA(1,2,2)(0,0,0)[0] intercept   : AIC=-962.398, Time=0.21 sec\n",
      " ARIMA(0,2,1)(0,0,0)[0]             : AIC=-959.029, Time=0.08 sec\n",
      " ARIMA(1,2,1)(0,0,0)[0]             : AIC=-952.259, Time=0.19 sec\n",
      " ARIMA(2,2,2)(0,0,0)[0] intercept   : AIC=-948.391, Time=0.32 sec\n",
      " ARIMA(0,2,2)(0,0,0)[0]             : AIC=-958.327, Time=0.16 sec\n",
      " ARIMA(1,2,3)(0,0,0)[0] intercept   : AIC=-932.651, Time=0.15 sec\n",
      " ARIMA(0,2,3)(0,0,0)[0] intercept   : AIC=-908.627, Time=0.15 sec\n",
      " ARIMA(1,2,2)(0,0,0)[0]             : AIC=-793.633, Time=0.23 sec\n",
      " ARIMA(0,2,1)(0,0,0)[0] intercept   : AIC=-961.247, Time=0.10 sec\n",
      " ARIMA(0,2,0)(0,0,0)[0] intercept   : AIC=-914.641, Time=0.05 sec\n",
      " ARIMA(2,2,1)(0,0,0)[0] intercept   : AIC=-887.915, Time=0.18 sec\n",
      " ARIMA(1,2,1)(0,0,0)[0] intercept   : AIC=-954.864, Time=0.16 sec\n",
      " ARIMA(0,2,2)(0,0,0)[0] intercept   : AIC=-961.319, Time=0.11 sec\n",
      " ARIMA(2,2,3)(0,0,0)[0] intercept   : AIC=-904.617, Time=0.36 sec\n",
      "\n",
      "Best model:  ARIMA(1,2,2)(0,0,0)[0] intercept\n",
      "Total fit time: 1.946 seconds\n",
      " ARIMA(1,2,2)(0,0,0)[0] intercept   : AIC=-962.398, Time=0.15 sec\n",
      " ARIMA(2,2,2)(0,0,0)[0] intercept   : AIC=-948.391, Time=0.14 sec\n",
      " ARIMA(1,2,3)(0,0,0)[0] intercept   : AIC=-932.651, Time=0.06 sec\n",
      " ARIMA(0,2,3)(0,0,0)[0] intercept   : AIC=-908.627, Time=0.06 sec\n",
      " ARIMA(2,2,1)(0,0,0)[0] intercept   : AIC=-887.915, Time=0.09 sec\n",
      " ARIMA(2,2,3)(0,0,0)[0] intercept   : AIC=-904.617, Time=0.15 sec\n",
      "\n",
      "Best model:  ARIMA(1,2,2)(0,0,0)[0] intercept\n",
      "Total fit time: 1.899 seconds\n"
     ]
    }
   ],
   "source": [
    "import dash\n",
    "from dash import dcc, html\n",
    "from dash.dependencies import Input, Output\n",
    "import pandas as pd\n",
    "\n",
    "app = dash.Dash(__name__)\n",
    "\n",
    "columns_options = [\n",
    "    {'label': 'Children Ratio', 'value': 'children_ratio'},\n",
    "    {'label': 'Working Adults Ratio', 'value': 'working_adults_ratio'},\n",
    "    {'label': 'Elderly Ratio', 'value': 'elderly_ratio'}\n",
    "]\n",
    "\n",
    "country_options = [{'label': country, 'value': country} for country in df['Country name'].unique()]\n",
    "\n",
    "dropdown_styles = {\n",
    "    'backgroundColor': 'white',  \n",
    "    'color': 'black',  \n",
    "}\n",
    "\n",
    "app.layout = html.Div([\n",
    "    html.H1('Country Data Dashboard from 1950 to 2021'),\n",
    "    html.Div([\n",
    "        dcc.Dropdown(id='country-dropdown', options=country_options, placeholder='Select a country', style = dropdown_styles),\n",
    "        dcc.Input(id='years-input', type='number', placeholder='Enter years to predict', value=0),\n",
    "        html.Button('Update Graphs', id='update-button', n_clicks=0),\n",
    "    ]),\n",
    "    dcc.RadioItems(\n",
    "        id='column-selection',\n",
    "        options=columns_options,\n",
    "        value='children_ratio',  # Default selection\n",
    "        labelStyle={'display': 'inline-block'}\n",
    "    ),\n",
    "    dcc.Graph(id='graph1'),\n",
    "    dcc.Graph(id='graph2'),\n",
    "    dcc.Graph(id='graph3'),\n",
    "    dcc.Graph(id='graph4'),\n",
    "    dcc.Graph(id='graph5'),\n",
    "])\n",
    "\n",
    "# Callback to update graphs based on user input\n",
    "@app.callback(\n",
    "    [Output('graph1', 'figure'),\n",
    "     Output('graph2', 'figure'),\n",
    "     Output('graph3', 'figure'),\n",
    "     Output('graph4', 'figure'),\n",
    "     Output('graph5', 'figure')],\n",
    "    [Input('update-button', 'n_clicks')],\n",
    "    [Input('country-dropdown', 'value'),\n",
    "     Input('years-input', 'value'),\n",
    "     Input('column-selection', 'value')]\n",
    ")\n",
    "def update_graphs(n_clicks, country, years, selected_column):\n",
    "    if n_clicks > 0 and country:\n",
    "        country_data = get_country_data(merged_features, country)\n",
    "        if years == None:\n",
    "            years = 0\n",
    "            \n",
    "        if years < 0:\n",
    "            raise ValueError('Invalid number of years. Years to predict must be greater than 0 and integer.')\n",
    "            \n",
    "        if years > 0:\n",
    "            model, train, test = get_model(country_data, selected_column)\n",
    "            pred = predict_model(model, country_data, years)\n",
    "            \n",
    "            fig1 = {'data': [{'x': country_data['Year'], 'y': country_data[selected_column], 'type': 'line', 'name': selected_column}],\n",
    "                    'layout': {'title': f'{selected_column} over time'}}\n",
    "            fig2 = {'data': [{'x': pred.index, 'y': pred, 'type': 'line', 'name': 'Predicted Values'}],\n",
    "                     'layout': {'title': f'Predicted {selected_column} for {country} in {years} years'}}\n",
    "            fig3 = {'data': [{'x': country_data['Year'], 'y': country_data['Population Growth Rate'], 'type': 'line', 'name': 'Population Growth Rate'}],\n",
    "                    'layout': {'title': 'Population Growth Rate over Time', 'xaxis': {'title': 'Year', 'range': [1951, max(country_data['Year'])]}, 'yaxis': {'title': 'Growth Rate'}}}\n",
    "            fig4 = {'data': [{'x': country_data['Year'], 'y': country_data['Dependency Ratio'], 'type': 'line', 'name': 'Dependency Ratio'}],\n",
    "                     'layout': {'title': 'Dependency ratio over time'}}\n",
    "            fig5 = {'data': [{'x': country_data['Year'], 'y': country_data['Population of children under the age of 1'], 'type': 'line', 'name': 'Birth rate'}],\n",
    "                    'layout': {'title': 'Birth rate over time'}}\n",
    "            return fig1, fig2, fig3, fig4, fig5\n",
    "        \n",
    "        else:\n",
    "            \n",
    "            fig1 = {'data': [{'x': country_data['Year'], 'y': country_data[selected_column], 'type': 'line', 'name': selected_column}],\n",
    "                    'layout': {'title': f'{selected_column} over time'}}\n",
    "            fig2 = {}\n",
    "            fig3 = {'data': [{'x': country_data['Year'], 'y': country_data['Population Growth Rate'], 'type': 'line', 'name': 'Population Growth Rate'}],\n",
    "                    'layout': {'title': 'Population Growth Rate over Time', 'xaxis': {'title': 'Year', 'range': [1951, max(country_data['Year'])]}, 'yaxis': {'title': 'Growth Rate'}}}\n",
    "            fig4 = {'data': [{'x': country_data['Year'], 'y': country_data['Dependency Ratio'], 'type': 'line', 'name': 'Dependency Ratio'}],\n",
    "                     'layout': {'title': 'Dependency ratio over time'}}\n",
    "            fig5 = {'data': [{'x': country_data['Year'], 'y': country_data['Population of children under the age of 1'], 'type': 'line', 'name': 'Birth rate'}],\n",
    "                    'layout': {'title': 'Birth rate over time'}}\n",
    "            \n",
    "            return fig1, fig2, fig3, fig4, fig5\n",
    "    else:\n",
    "        # Return default or empty figures\n",
    "        return {}, {}, {}, {}, {}\n",
    "\n",
    "# Run the app\n",
    "if __name__ == '__main__':\n",
    "    app.run_server(debug=True)"
   ]
  },
  {
   "cell_type": "code",
   "execution_count": null,
   "id": "4a51cdf1",
   "metadata": {},
   "outputs": [],
   "source": []
  }
 ],
 "metadata": {
  "kernelspec": {
   "display_name": "Python 3 (ipykernel)",
   "language": "python",
   "name": "python3"
  },
  "language_info": {
   "codemirror_mode": {
    "name": "ipython",
    "version": 3
   },
   "file_extension": ".py",
   "mimetype": "text/x-python",
   "name": "python",
   "nbconvert_exporter": "python",
   "pygments_lexer": "ipython3",
   "version": "3.11.5"
  }
 },
 "nbformat": 4,
 "nbformat_minor": 5
}
